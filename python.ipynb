{
  "cells": [
    {
      "cell_type": "markdown",
      "metadata": {
        "id": "view-in-github",
        "colab_type": "text"
      },
      "source": [
        "<a href=\"https://colab.research.google.com/github/prashant-210110/daily-tasks/blob/main/python.ipynb\" target=\"_parent\"><img src=\"https://colab.research.google.com/assets/colab-badge.svg\" alt=\"Open In Colab\"/></a>"
      ]
    },
    {
      "cell_type": "markdown",
      "metadata": {
        "id": "71pCyR_pBpZy"
      },
      "source": [
        "1.camel case----------->prashantNagaSai\n",
        "2.pascal case---------->prashantnagasai\n",
        "3.snake case----------->prashant_naga_sai"
      ]
    },
    {
      "cell_type": "code",
      "execution_count": null,
      "metadata": {
        "colab": {
          "base_uri": "https://localhost:8080/"
        },
        "id": "JQOgAngUn2hY",
        "outputId": "2b8cc4c5-2647-41c6-a85b-c77f260bde6b"
      },
      "outputs": [
        {
          "name": "stdout",
          "output_type": "stream",
          "text": [
            "<class 'float'>\n",
            "<class 'int'>\n",
            "<class 'str'>\n",
            "<class 'complex'>\n",
            "<class 'tuple'>\n",
            "<class 'list'>\n",
            "<class 'set'>\n",
            "<class 'dict'>\n",
            "<class 'bool'>\n"
          ]
        }
      ],
      "source": [
        "#data types\n",
        "print(type(2.5))\n",
        "print(type(5))\n",
        "print(type(\"sai\"))\n",
        "print(type(1+2j))\n",
        "print(type((91,5,2,6,2)))\n",
        "print(type([1,2,5,9,6,6]))\n",
        "print(type({1,4,5,52,2,21}))\n",
        "print(type({1:\"sai\",2:\"naga\"}))\n",
        "print(type(True))"
      ]
    },
    {
      "cell_type": "code",
      "execution_count": null,
      "metadata": {
        "colab": {
          "base_uri": "https://localhost:8080/"
        },
        "id": "7wncOU2ZpNIY",
        "outputId": "6a48ac0c-320e-4f25-e6ff-732eabb83738"
      },
      "outputs": [
        {
          "name": "stdout",
          "output_type": "stream",
          "text": [
            "1\n",
            "0\n",
            "20\n",
            "[0, 1, 2, 3, 4, 5, 6, 7, 8, 9]\n",
            "{0, 2, 4, 6, 8}\n",
            "(0, 1, 2, 3, 4, 5, 6, 7, 8, 9)\n",
            "frozenset({0, 1, 2, 3, 4, 5, 6, 7, 8, 9})\n",
            "dict_keys([1, 2])\n",
            "dict_values(['sai', 'naga'])\n"
          ]
        }
      ],
      "source": [
        "print(int(True))\n",
        "print(int(False))\n",
        "print(int(20.2541))\n",
        "range(0,9)\n",
        "print(list(range(0,10)))\n",
        "print(set(range(0,10,2)))\n",
        "print(tuple(range(0,10)))\n",
        "print(frozenset(range(0,10)))\n",
        "d={1:\"sai\",2:\"naga\"}\n",
        "print(d.keys())\n",
        "print(d.values())"
      ]
    },
    {
      "cell_type": "code",
      "execution_count": null,
      "metadata": {
        "colab": {
          "base_uri": "https://localhost:8080/"
        },
        "id": "7W6b8v6_XRX-",
        "outputId": "ce2a193d-712c-4cfe-945a-3ff29864450f"
      },
      "outputs": [
        {
          "name": "stdout",
          "output_type": "stream",
          "text": [
            "<class 'int'>\n",
            "<class 'float'>\n",
            "<class 'complex'>\n",
            "<class 'str'>\n"
          ]
        }
      ],
      "source": [
        "pyint=325\n",
        "sprint(type(pyint))\n",
        "pyflo=325.215\n",
        "print(type(pyflo))\n",
        "pycompl=1+2j\n",
        "print(type(pycompl))\n",
        "pystr=\"abc\"\n",
        "print(type(pystr))"
      ]
    },
    {
      "cell_type": "code",
      "execution_count": null,
      "metadata": {
        "colab": {
          "base_uri": "https://localhost:8080/"
        },
        "id": "x92osXrNaaMH",
        "outputId": "afa10120-788c-4904-f39a-7d99d1899956"
      },
      "outputs": [
        {
          "name": "stdout",
          "output_type": "stream",
          "text": [
            "0b1111011\n",
            "0o232\n",
            "0x14\n"
          ]
        }
      ],
      "source": [
        "s#binary       .2 -0,1\n",
        "#decimal      .10-0,1,2,3,4,5,6,7,8,9\n",
        "#octal        .8 -0,1,2,3,4,5,6,7\n",
        "#hexa decimal .16-0,1,2,3,4,5,6,7,8,9,a,b,c,d,e,f\n",
        "print(bin(123))\n",
        "print(oct(154))\n",
        "print(hex(20))\n",
        "\n"
      ]
    },
    {
      "cell_type": "code",
      "execution_count": null,
      "metadata": {
        "colab": {
          "base_uri": "https://localhost:8080/"
        },
        "id": "j8yMwvg_bSwi",
        "outputId": "1903ed9b-a127-4e17-fa37-db6ba80a77df"
      },
      "outputs": [
        {
          "name": "stdout",
          "output_type": "stream",
          "text": [
            "0o173\n",
            "0o3014\n",
            "0o307\n",
            "0x1d\n",
            "0x609\n",
            "0xc7\n",
            "0xb\n",
            "123\n",
            "952\n",
            "199\n",
            "4098\n"
          ]
        }
      ],
      "source": [
        "print(oct(123))\n",
        "print(oct(1548))\n",
        "print(oct(199))\n",
        "print(hex(29))\n",
        "print(hex(1545))\n",
        "print(hex(199))\n",
        "print(hex(11))\n",
        "print(0o173)\n",
        "print(0b1110111000)\n",
        "print(0o307)\n",
        "print(0b1000000000010)"
      ]
    },
    {
      "cell_type": "code",
      "execution_count": null,
      "metadata": {
        "colab": {
          "base_uri": "https://localhost:8080/"
        },
        "id": "rObBCq8B4VIc",
        "outputId": "5bcd442f-d3c7-4972-f04a-9a326aed2d77"
      },
      "outputs": [
        {
          "name": "stdout",
          "output_type": "stream",
          "text": [
            "[1, 2, 3]\n",
            "[1, 2, 3]\n",
            "[1, 2, 3]\n",
            "134296633131072\n",
            "134296633131072\n",
            "134296630743424\n",
            "False\n",
            "True\n",
            "False\n",
            "False\n",
            "True\n",
            "True\n",
            "False\n"
          ]
        }
      ],
      "source": [
        "a=[1,2,3,]\n",
        "b=a\n",
        "c=[1,2,3]\n",
        "ssprint(a)\n",
        "print(b)\n",
        "print(c)\n",
        "print(id(a))\n",
        "print(id(b))\n",
        "print(id(c))\n",
        "print(a is c)\n",
        "print(a is b)\n",
        "print(b is c)\n",
        "print(a in b)\n",
        "print(1  in a)\n",
        "print(5 not in a)\n",
        "print(5 in a)\n"
      ]
    },
    {
      "cell_type": "code",
      "execution_count": null,
      "metadata": {
        "colab": {
          "base_uri": "https://localhost:8080/"
        },
        "id": "ekbBkWBu6zNY",
        "outputId": "b2fc3131-bf6c-4fcb-8144-f83b33848f51"
      },
      "outputs": [
        {
          "name": "stdout",
          "output_type": "stream",
          "text": [
            "enter the first number12\n",
            "enter the second number6\n",
            "addition is 18\n",
            "subtraction is 6\n",
            "multiplication is 72\n",
            "division is 2.0\n",
            "flour division is  2\n",
            "power is  2985984\n",
            "modules is  0\n"
          ]
        }
      ],
      "source": [
        "#ARITHEMATIC OPERATORS\n",
        "num1=int(input(\"enter the first number\"))\n",
        "num2=int(input(\"enter the second number\"))\n",
        "print(\"addition is\",num1+num2)\n",
        "print(\"subtraction is\",num1-num2)\n",
        "print(\"multiplication is\",num1*num2)\n",
        "print(\"division is\",num1/num2)\n",
        "print(\"flour division is \",num1//num2)\n",
        "print(\"power is \",num1**num2)\n",
        "print(\"modules is or remainder \",num1%num2)"
      ]
    },
    {
      "cell_type": "code",
      "execution_count": null,
      "metadata": {
        "colab": {
          "base_uri": "https://localhost:8080/"
        },
        "id": "vd-ZSL4tCluz",
        "outputId": "c66c125a-e19f-48ba-b435-5caa7dbf8ab8"
      },
      "outputs": [
        {
          "name": "stdout",
          "output_type": "stream",
          "text": [
            "hello welcome to python,developed in 1989,byguido van rossum.\n",
            "hello welcome to guido van rossum,developed in python,by1989.\n",
            "python1989\n",
            "python1989helloguido van rossum\n",
            "helloguido van rossum\n",
            "enter the number50\n",
            "enter another number20\n",
            "additon of a and b is 70\n",
            "subtraction of a and b is 30\n",
            "multiplication of a and b is 1000\n",
            "division of a and b is 2.5\n",
            "poewr of  of a to b is 9536743164062500000000000000000000\n",
            "flore division of a and b is 2\n"
          ]
        }
      ],
      "source": [
        "s#FORMATING STRINGS\n",
        "name=\"python\"\n",
        "year=1989\n",
        "auth=\"guido van rossum\"\n",
        "zen=\"hello\"\n",
        "print(\"hello welcome to {},developed in {},by{}.\".format(name,year,auth))\n",
        "print(\"hello welcome to {2},developed in {0},by{1}.\".format(name,year,auth))\n",
        "print(\"{0}{1}\".format(name,year))\n",
        "pssrint(\"{}{}{}{}\".format(name,year,zen,auth))\n",
        "print(zen + auth)\n",
        "a=int(input(\"enter the number\"))\n",
        "b=int(input(\"enter another number\"))\n",
        "print(\"additon of a and b is\",a+b)#addition\n",
        "print(\"subtraction of a and b is\",a-b)#subtraction\n",
        "prissnt(\"multiplication of a and b is\",a*b)#multiplication\n",
        "print(\"division of a and b is\",a/b)#division\n",
        "print(\"poewr of  of a to b is\",a**b)#power\n",
        "print(\"flore division of a and b is\",a//b)#flore division"
      ]
    },
    {
      "cell_type": "code",
      "execution_count": null,
      "metadata": {
        "colab": {
          "base_uri": "https://localhost:8080/"
        },
        "id": "MdPV38NiCspa",
        "outputId": "6076f161-848f-4811-dc35-ffb947e7193f"
      },
      "outputs": [
        {
          "name": "stdout",
          "output_type": "stream",
          "text": [
            "my name is sai\n",
            "my name is sai\n",
            "my name is sai\n",
            "my name is Sai\n",
            "my name is Sai iam 21\n",
            "my name is prashant and iam 21\n"
          ]
        }
      ],
      "source": [
        "print(\"my name is {name}\".format(name=\"sai\"))\n",
        "print(\"my name is {}\".format(\"sai\"))\n",
        "print(\"my name is {0}\".format(\"sai\"))\n",
        "name=\"Sai\"\n",
        "age=21\n",
        "print(\"my name is {0}\".format(name))\n",
        "print(\"my name is {0} iam {1}\".format(name,age))\n",
        "print(\"my name is {name} and iam {age}\".format(name=\"prashant\",age=21))"
      ]
    },
    {
      "cell_type": "code",
      "execution_count": null,
      "metadata": {
        "colab": {
          "base_uri": "https://localhost:8080/"
        },
        "id": "eUPtG3Ju8kjp",
        "outputId": "95cd4465-e9e6-41eb-a652-82d4b9cba989"
      },
      "outputs": [
        {
          "name": "stdout",
          "output_type": "stream",
          "text": [
            "enter the first number12\n",
            "enter second number12\n",
            "True\n",
            "False\n",
            "False\n",
            "False\n",
            "True\n",
            "True\n"
          ]
        }
      ],
      "source": [
        "#COMPARISION OPERATORS\n",
        "num1=int(input(\"enter the first number\"))\n",
        "num2=int(input(\"enter second number\"))\n",
        "print(\"equal\",num1==num2)\n",
        "print(num1>num2)\n",
        "print(num1<num2)\n",
        "print(num1!=num2)\n",
        "print(num1>=num2)\n",
        "print(num1<=num2)\n"
      ]
    },
    {
      "cell_type": "code",
      "execution_count": null,
      "metadata": {
        "colab": {
          "base_uri": "https://localhost:8080/"
        },
        "id": "fzJg2ZZ6_40Y",
        "outputId": "551dc623-c880-476c-c0a7-6fab163cadb3"
      },
      "outputs": [
        {
          "name": "stdout",
          "output_type": "stream",
          "text": [
            "False\n",
            "True\n",
            "False\n",
            "False\n"
          ]
        }
      ],
      "source": [
        "#logical operators and or not\n",
        "a=5\n",
        "b=4\n",
        "print(a<8 and b>6)\n",
        "print(a>0 or b>7)\n",
        "print(not a)\n",
        "print(not b)"
      ]
    },
    {
      "cell_type": "code",
      "execution_count": null,
      "metadata": {
        "colab": {
          "base_uri": "https://localhost:8080/"
        },
        "id": "lBc91QyHEYOm",
        "outputId": "cdecb3dc-ee0a-4805-e26b-cf514bdb562b"
      },
      "outputs": [
        {
          "name": "stdout",
          "output_type": "stream",
          "text": [
            "-21\n",
            "-2\n",
            "-11\n",
            "456\n",
            "6\n",
            "7\n",
            "500\n",
            "-2\n",
            "0\n",
            "4\n",
            "-1\n",
            "0\n",
            "0\n",
            "10 20\n",
            "a is big\n",
            "False\n",
            "True\n",
            "True\n"
          ]
        }
      ],
      "source": [
        "#bitwise complement symbol is ~ also known as bit wise not operator\n",
        "#formula=>.......~x=-x-1\n",
        "print(~20)\n",
        "print(~True)\n",
        "print(~10)\n",
        "s\n",
        "\n",
        "#ones complement and 2's complement\n",
        "#1+1+1=11\n",
        "#1+1=10\n",
        "#1+0=1\n",
        "#0+1=1\n",
        "#0+0=0\n",
        "\n",
        "\n",
        "\n",
        "\n",
        "\n",
        "#left shift and right shift\n",
        "#any thing will done in the right side only\n",
        "#left shift ----add zeroes in right side\n",
        "#right shift ---cancel the binary numbers in the right side\n",
        "bin(57)\n",
        "bin(99)\n",
        "print(57<<3)\n",
        "print(99>>4)\n",
        "print(255>>5)\n",
        "print(125<<2)\n",
        "0b111110100\n",
        "\n",
        "print(~True)\n",
        "print(True>>2)\n",
        "print(True<<2)\n",
        "print(~False)\n",
        "print(False>>2)\n",
        "print(False<<2)\n",
        "\n",
        "\n",
        "\n",
        "#ternary operator     conditional expression\n",
        "a,b=10,20\n",
        "print(a,b)\n",
        "print(\"a is big\")\n",
        "\n",
        "\n",
        "\n",
        "\n",
        "print(True&False)\n",
        "print(True|False)\n",
        "print(True^False)\n",
        "\n",
        "\n",
        "\n",
        "#PEMDAS mathematical rules\n",
        "#PARENTHESIS\n",
        "#EXPONENTIAL\n",
        "#MULTIPLICAION\n",
        "#DIVISION\n",
        "#ADDITION\n",
        "#SUBTRACTION"
      ]
    },
    {
      "cell_type": "code",
      "execution_count": null,
      "metadata": {
        "colab": {
          "base_uri": "https://localhost:8080/"
        },
        "id": "cgVOS7l29UlL",
        "outputId": "e5243bc7-4ec5-4aa2-cd1d-79f5c299a4d9"
      },
      "outputs": [
        {
          "name": "stdout",
          "output_type": "stream",
          "text": [
            "79\n",
            "104\n",
            "79\n",
            "1975\n",
            "79.0\n",
            "4.0\n"
          ]
        }
      ],
      "source": [
        "ss#ASSIGNMENT OPERATORS\n",
        "a=25\n",
        "b=54\n",
        "c=0\n",
        "c=a+b\n",
        "print(c)\n",
        "c+=a\n",
        "print(c)\n",
        "c-=a\n",
        "print(c)\n",
        "c*=a\n",
        "print(c)\n",
        "c/=a\n",
        "print(c)\n",
        "c%=a\n",
        "print(c)\n",
        "\n"
      ]
    },
    {
      "cell_type": "code",
      "execution_count": null,
      "metadata": {
        "colab": {
          "base_uri": "https://localhost:8080/"
        },
        "id": "zYSbJOdxC07r",
        "outputId": "a4a3b496-adcb-4977-ae0d-22820ec118ba"
      },
      "outputs": [
        {
          "name": "stdout",
          "output_type": "stream",
          "text": [
            "True\n",
            "False\n",
            "True\n",
            "False\n",
            "True\n",
            "False\n",
            "False\n",
            "True\n",
            "True\n",
            "True\n"
          ]
        }
      ],
      "source": [
        "#IN ,NOT IN\n",
        "PyInt=\"pyThon\"\n",
        "print('p'in PyInt)\n",
        "print('P'in PyInt)\n",
        "print('T'in PyInt)\n",
        "print('.'in PyInt)\n",
        "print('G' not in PyInt)\n",
        "print('py' not in PyInt)\n",
        "print('pyThon' not in PyInt)\n",
        "print('python' not in PyInt)\n",
        "print('pyThon'in PyInt)\n",
        "print(\"{}\".format(\"pyThon\") in PyInt)\n"
      ]
    },
    {
      "cell_type": "code",
      "execution_count": null,
      "metadata": {
        "colab": {
          "base_uri": "https://localhost:8080/"
        },
        "id": "aJpaq4xLsAHV",
        "outputId": "cc56b644-0573-4f86-a6c0-143c854bc840"
      },
      "outputs": [
        {
          "name": "stdout",
          "output_type": "stream",
          "text": [
            "[1, 5, 2]\n",
            "[1, 5, 2, 56, 5, 2]\n",
            "[56, 5, 2]\n",
            "[56, 5, 2]\n",
            "False\n",
            "True\n",
            "False\n",
            "133739188300416\n",
            "133739188301120\n",
            "133739188301120\n",
            "133739188302272\n",
            "False\n",
            "True\n",
            "True\n",
            "False\n"
          ]
        }
      ],
      "source": [
        "#IS,ISNOT\n",
        "a=[1,5,2]\n",
        "b=[56,5,2]\n",
        "c=b\n",
        "d=[1,5,2]\n",
        "print(a)\n",
        "print(a+b)\n",
        "print(b)\n",
        "print(c)\n",
        "print(a is b)\n",
        "print(b is c)\n",
        "print(a is c)\n",
        "print(id(a))\n",
        "print(id(b))\n",
        "print(id(c))\n",
        "print(id(d))\n",
        "print(a==b)\n",
        "print(b==c)\n",
        "print(a is not c)\n",
        "print(b is not c)\n"
      ]
    },
    {
      "cell_type": "code",
      "execution_count": null,
      "metadata": {
        "colab": {
          "base_uri": "https://localhost:8080/"
        },
        "id": "k7K55JgoDKe7",
        "outputId": "33d0cd1c-ed43-475c-8952-80bad491c25e"
      },
      "outputs": [
        {
          "name": "stdout",
          "output_type": "stream",
          "text": [
            "2\n",
            "15\n",
            "98\n",
            "0b1100011\n",
            "0b1111010\n",
            "198\n"
          ]
        }
      ],
      "source": [
        "#bitwise opreators\n",
        "a=55\n",
        "b=66                                 # bitwise and SYMBOL IS \"&\"\n",
        "print(a&b)                           #a   b   result\n",
        "print(15&31)                         #0   0     0\n",
        "print(99&122)                        #1   0     0\n",
        "print(bin(99))                       #1   1     1\n",
        "print(bin(122))                      #0   0     0\n",
        "hex(199)\n",
        "print(199&254)"
      ]
    },
    {
      "cell_type": "code",
      "execution_count": null,
      "metadata": {
        "colab": {
          "base_uri": "https://localhost:8080/"
        },
        "id": "wU3QquT5DRrw",
        "outputId": "1017bb52-183d-4d86-e9ba-45601e0217a0"
      },
      "outputs": [
        {
          "name": "stdout",
          "output_type": "stream",
          "text": [
            "231\n",
            "24\n",
            "1547\n",
            "0b11000000110\n",
            "0b11111110\n",
            "1790\n",
            "1790\n",
            "0b10000101\n",
            "0b11011110\n",
            "223\n",
            "223\n"
          ]
        }
      ],
      "source": [
        "#bitwise or SYMBOL IS    \"|\"\n",
        "s#  a     b     result\n",
        "#  0    0       0\n",
        "#  1    1       1\n",
        "#  1    0       1\n",
        "#  0    1       1\n",
        "print(99|199)\n",
        "print(16|8)\n",
        "print(1545|2)\n",
        "print (bin(1542))\n",
        "print(bin(254))\n",
        "print(0b11011111110)\n",
        "print(1542|254)\n",
        "print(bin(133))\n",
        "print(bin(222))\n",
        "print(0b11011111)\n",
        "print(133|222)"
      ]
    },
    {
      "cell_type": "code",
      "execution_count": null,
      "metadata": {
        "colab": {
          "base_uri": "https://localhost:8080/"
        },
        "id": "zaDhuFpTDV2c",
        "outputId": "e232ffc0-1a69-4e70-e635-e9c3e520ab90"
      },
      "outputs": [
        {
          "name": "stdout",
          "output_type": "stream",
          "text": [
            "0b10010000\n",
            "0b101100\n",
            "188\n",
            "188\n"
          ]
        }
      ],
      "source": [
        "#bit wise exclusive or SYMBOL IS\"^\"\n",
        " # a    b   result\n",
        " # 0     1   1\n",
        " # 1     0   1\n",
        " # 1     1   0\n",
        " # 0     0   0\n",
        "print(bin(144))\n",
        "print(bin(44))\n",
        "print(0b10111100)\n",
        "print(144^44)\n"
      ]
    },
    {
      "cell_type": "markdown",
      "metadata": {
        "id": "I8qlQztDC-6k"
      },
      "source": [
        "4/7/25"
      ]
    },
    {
      "cell_type": "code",
      "execution_count": null,
      "metadata": {
        "colab": {
          "base_uri": "https://localhost:8080/"
        },
        "id": "WEpReoeVMkFQ",
        "outputId": "ab8d4cfe-4e5e-4133-b396-5ccf50466b04"
      },
      "outputs": [
        {
          "name": "stdout",
          "output_type": "stream",
          "text": [
            "p\n",
            "y\n",
            "t\n",
            "h\n",
            "o\n",
            "n\n",
            "p,y,t,h,o,n,  p y t h o n p(:y(:t(:h(:o(:n(:p y t h o n "
          ]
        }
      ],
      "source": [
        "#looping statements\n",
        "#for loop\n",
        "for b in \"python\":\n",
        "  print(b)\n",
        "for a in \"python\":\n",
        "  print(a,end=\",\")\n",
        "for x in \" python\":\n",
        "  print(x,end=\" \")\n",
        "for i in \"python\":\n",
        "  print(i,end=\"(:\")\n",
        "c=\"python\"\n",
        "for i in c:\n",
        "  print(i,end=\" \")"
      ]
    },
    {
      "cell_type": "code",
      "execution_count": null,
      "metadata": {
        "colab": {
          "base_uri": "https://localhost:8080/"
        },
        "id": "yP0BTiYPE6JK",
        "outputId": "6176f4d5-7352-462e-80e0-beef90645014"
      },
      "outputs": [
        {
          "name": "stdout",
          "output_type": "stream",
          "text": [
            "first line\n",
            "second line\n",
            "third line\n",
            "first line\n",
            "second line\n",
            "third line\n",
            "first line,second line,third line\n",
            "first line,second line,third line\n",
            "first line\n",
            "second line\n",
            "third line\n",
            "first line \n",
            "\n",
            "second line\n",
            "third line\n",
            "first line \n",
            "\n",
            "second \n",
            " line\n",
            "third line\n"
          ]
        }
      ],
      "source": [
        "#control statements\n",
        "print(\"first line\")\n",
        "print(\"second line\")\n",
        "print(\"third line\")\n",
        "print(\"first line\") ;print(\"second line\") ;print(\"third line\")\n",
        "print(\"first line\",end=\",\")\n",
        "print(\"second line\",end=\",\")\n",
        "print(\"third line\",end=\"\\n\")\n",
        "print(\"first line\",end=\",\") ;print(\"second line\",end=\",\") ;print(\"third line\")\n",
        "print(\"first line\",end=\"\\n\") ;print(\"second line\",end=\"\\n\") ;print(\"third line\")\n",
        "print(\"first line\",\"\\n\") ;print(\"second line\",end=\"\\n\") ;print(\"third line\")\n",
        "print(\"first line \\n\") ;print(\"second \\n line\") ;print(\"third line\")"
      ]
    },
    {
      "cell_type": "code",
      "execution_count": null,
      "metadata": {
        "colab": {
          "base_uri": "https://localhost:8080/"
        },
        "id": "VeMwTjUWE_B8",
        "outputId": "49c10fc8-29ce-42b5-c815-30f702bee7aa"
      },
      "outputs": [
        {
          "name": "stdout",
          "output_type": "stream",
          "text": [
            "enter the number9\n",
            "given number is positive number\n",
            "tq\n"
          ]
        }
      ],
      "source": [
        "#selective control structures  (conditional control statements)\n",
        "#python decision making statements\n",
        "# one way if statement\n",
        "PyInt=int(input(\"enter the number\"))\n",
        "if PyInt>=0:\n",
        "  print(\"given number is positive number\")\n",
        "  print(\"tq\")\n",
        "\n"
      ]
    },
    {
      "cell_type": "code",
      "execution_count": null,
      "metadata": {
        "colab": {
          "base_uri": "https://localhost:8080/"
        },
        "id": "KUmiJT2YFFcR",
        "outputId": "84508f1d-b8de-4f13-b0f3-8ae8f0738203"
      },
      "outputs": [
        {
          "name": "stdout",
          "output_type": "stream",
          "text": [
            "enter the number542\n",
            "given number is positive number\n",
            "number is greater then 10\n",
            "tq\n"
          ]
        }
      ],
      "source": [
        "# two way decision   if eles statement\n",
        "PyInt=int(input(\"enter the number\"))\n",
        "if PyInt >0:\n",
        "  print(\"given number is positive number\")\n",
        "  if PyInt<11:\n",
        "    print(\"number is in between o to 10\")\n",
        "  else:\n",
        "    print(\"number is greater then 10\")\n",
        "else:\n",
        "  print(\"given number is negative number\")\n",
        "print(\"tq\")"
      ]
    },
    {
      "cell_type": "code",
      "execution_count": null,
      "metadata": {
        "colab": {
          "base_uri": "https://localhost:8080/"
        },
        "id": "y_Zwj4U5FJ63",
        "outputId": "a81c141c-784a-4b8b-9bc0-85de9550fcfd"
      },
      "outputs": [
        {
          "name": "stdout",
          "output_type": "stream",
          "text": [
            "enter the nunber63\n",
            "givrn number is positive number\n",
            "TQ\n"
          ]
        }
      ],
      "source": [
        "#multi wway decision\n",
        "PyInt=int(input(\"enter the nunber\"))\n",
        "if PyInt==0:\n",
        "  print(\"given number is zero\")\n",
        "elif PyInt<0:\n",
        "  print(\"given number is negative number\")\n",
        "else:\n",
        "  print(\"givrn number is positive number\")\n",
        "print(\"TQ\")"
      ]
    },
    {
      "cell_type": "code",
      "execution_count": null,
      "metadata": {
        "colab": {
          "base_uri": "https://localhost:8080/"
        },
        "id": "USv41xqFFOq6",
        "outputId": "ce44bc18-7d5b-41d0-9d40-3f40dc2b1870"
      },
      "outputs": [
        {
          "name": "stdout",
          "output_type": "stream",
          "text": [
            "enter the number96\n",
            "positive number\n"
          ]
        }
      ],
      "source": [
        "#negative conditional statements\n",
        "PyInt=int(input(\"enter the number\"))\n",
        "if not PyInt>0:\n",
        "  print(\"given number is negative\")\n",
        "else:\n",
        "  print(\"positive number\")                         #if we take off not then we get totally reverse optput\n"
      ]
    },
    {
      "cell_type": "code",
      "execution_count": null,
      "metadata": {
        "colab": {
          "base_uri": "https://localhost:8080/"
        },
        "id": "leD1HfzdFSK9",
        "outputId": "66cc5ff0-6cc3-4757-cc9b-1ec49591cfa9"
      },
      "outputs": [
        {
          "name": "stdout",
          "output_type": "stream",
          "text": [
            "enter marks of the student63\n",
            "student get b grade\n"
          ]
        }
      ],
      "source": [
        "#grading of the student marks\n",
        "marks=int(input(\"enter marks of the student\"))\n",
        "if marks>=90 and marks<=100:\n",
        "  print(\"student get a+ grade\")\n",
        "elif marks>=80 and marks<=89:\n",
        "  print(\"student get a grade\")\n",
        "elif marks>=70 and marks<=79:\n",
        "  print(\"student get b+ grade\")\n",
        "elif marks>=60 and marks<=69:\n",
        "  print(\"student get b grade\")\n",
        "elif marks>=50 and marks<=59:\n",
        "  print(\"student get c grade\")\n",
        "elif marks>=40 and marks<=49:\n",
        "  print(\"student get d grade\")\n",
        "elif marks>100:\n",
        "  print(\"enter maeks below 100\")\n",
        "else:\n",
        "  print(\"failed\")"
      ]
    },
    {
      "cell_type": "code",
      "execution_count": null,
      "metadata": {
        "colab": {
          "base_uri": "https://localhost:8080/"
        },
        "id": "2Dfh06xBFWk-",
        "outputId": "86bd9932-c80d-4173-c1d5-e152a89a7c5a"
      },
      "outputs": [
        {
          "name": "stdout",
          "output_type": "stream",
          "text": [
            "enter the number:93\n",
            "the given nunber is positive\n"
          ]
        }
      ],
      "source": [
        "#nested statements\n",
        "num=int(input(\"enter the number:\"))\n",
        "if num>=0:#outer condition\n",
        "  if num==0:#inner condition\n",
        "    print(\"the given number is zero\")\n",
        "  else:\n",
        "    print(\"the given nunber is positive\")\n",
        "else:\n",
        "  print(\"the given number negative number\")"
      ]
    },
    {
      "cell_type": "code",
      "execution_count": null,
      "metadata": {
        "id": "hg0MwLGXFaQl"
      },
      "outputs": [],
      "source": [
        "for x in [1,2,3]:\n",
        "  print(x)\n",
        "#for is the iterator\n",
        "#x is the variable\n",
        "#in is the operator\n",
        "#[1,2,3] is the iterable                            #operators\n",
        "#for x in[1,2,3] is called as iteration\n"
      ]
    },
    {
      "cell_type": "code",
      "execution_count": null,
      "metadata": {
        "colab": {
          "base_uri": "https://localhost:8080/"
        },
        "id": "gVfrRPhqO-fK",
        "outputId": "22c08920-0b6f-445c-d01c-918ee3395d4c"
      },
      "outputs": [
        {
          "name": "stdout",
          "output_type": "stream",
          "text": [
            "6 11 13 14 18 26 667 731 733 734 \n",
            "the sum is  734\n"
          ]
        }
      ],
      "source": [
        "numbers=[6,5,2,1,4,8,641,64,2,1]\n",
        "sum=0\n",
        "for val in numbers:\n",
        "  sum=sum+val             #inside the indentation....print every line\n",
        "  print(sum,end=\" \")\n",
        "print(\"\\n\"\"the sum is \",sum)  #outside the indentation ....just print the last line"
      ]
    },
    {
      "cell_type": "code",
      "execution_count": null,
      "metadata": {
        "colab": {
          "base_uri": "https://localhost:8080/"
        },
        "id": "XRyOiY-AQKuo",
        "outputId": "96265eeb-8376-4f1c-a861-06b62b08ae34"
      },
      "outputs": [
        {
          "name": "stdout",
          "output_type": "stream",
          "text": [
            "less then 40\n",
            "less then 40\n",
            "less then 40\n",
            "equals to 40\n",
            "40\n",
            "greater then to 40 50\n",
            "50\n",
            "50\n"
          ]
        }
      ],
      "source": [
        "a=[10,20,30,40,50]\n",
        "for num in a:\n",
        "  if num>40:\n",
        "    print(\"greater then to 40\",num)\n",
        "  elif num==40:\n",
        "    print(\"equals to 40\")\n",
        "  else:\n",
        "    print(\"less then 40\")\n",
        "print(num)"
      ]
    },
    {
      "cell_type": "code",
      "execution_count": null,
      "metadata": {
        "colab": {
          "base_uri": "https://localhost:8080/"
        },
        "id": "DT17hQT1RLz_",
        "outputId": "9254ba41-95e0-4f02-83d6-62aa1b4a85c3"
      },
      "outputs": [
        {
          "name": "stdout",
          "output_type": "stream",
          "text": [
            "BIG DATA\n",
            "PYTHON\n",
            "DEEP LEARNING\n",
            "deep LEARNING\n",
            "big data\n",
            "yes\n"
          ]
        }
      ],
      "source": [
        "dataset=[\"big data\",\"Python\",\"deep LEARNING\"]\n",
        "for data in dataset:\n",
        "  print(data.upper())\n",
        "print(data)\n",
        "print(dataset[0])\n",
        "if data is dataset[2]:\n",
        "  print(\"yes\")\n",
        "else:\n",
        "  print(\"no\")"
      ]
    },
    {
      "cell_type": "code",
      "execution_count": null,
      "metadata": {
        "colab": {
          "base_uri": "https://localhost:8080/"
        },
        "id": "B4h-Xi0xSrhT",
        "outputId": "4e470f1f-931f-4365-d75d-6f6a1199780d"
      },
      "outputs": [
        {
          "name": "stdout",
          "output_type": "stream",
          "text": [
            "0\n",
            "1\n",
            "2\n",
            "3\n",
            "1,2,3,4,5,6,7,8,9,1 3 5 7 9 11 14 12 10 8 6 4 2 -54\n",
            "-48\n",
            "-42\n",
            "-36\n",
            "-30\n",
            "-24\n",
            "-18\n",
            "-12\n",
            "-6\n"
          ]
        }
      ],
      "source": [
        "for x in range(4):          #it will print up to 4 starting from 0\n",
        "  print(x)\n",
        "for i in range(1,10):       #it will just print from 1 to 9\n",
        "  print(i,end=\",\")\n",
        "for i in range(1,12,2):     #starrt value is max  and second value is max and last value is increment from 1 to 12\n",
        "  print(i,end=\" \")\n",
        "  \"\\n\"\n",
        "for i in range(14,0,-2):    #start value is maximum and second value is minimum and last value is the decrement from 14 to 0\n",
        "  print(i,end=\" \")\n",
        "for i in range(-54,-5,6):\n",
        "  print(i)\n"
      ]
    },
    {
      "cell_type": "code",
      "execution_count": null,
      "metadata": {
        "colab": {
          "base_uri": "https://localhost:8080/"
        },
        "id": "sh5aSQa5W0r9",
        "outputId": "af2fc37a-f75c-4d15-ea3e-4a606ad004d6"
      },
      "outputs": [
        {
          "name": "stdout",
          "output_type": "stream",
          "text": [
            "range(0, 10)\n",
            "[0, 1, 2, 3, 4, 5, 6, 7, 8, 9]\n",
            "(0, 1, 2, 3, 4, 5, 6, 7, 8, 9)\n",
            "{0, 1, 2, 3, 4, 5, 6, 7, 8, 9}\n",
            "frozenset({0, 1, 2, 3, 4, 5, 6, 7, 8, 9})\n",
            "range(0, 10)\n"
          ]
        }
      ],
      "source": [
        "print(range(10))\n",
        "print(list(range(10)))\n",
        "print(tuple(range(10)))\n",
        "print(set(range(10)))\n",
        "print(frozenset(range(10)))\n",
        "print(str(range(10)))\n"
      ]
    },
    {
      "cell_type": "markdown",
      "metadata": {
        "id": "Gvc1dJLCC36R"
      },
      "source": [
        "5/7/25\n",
        "lab\n"
      ]
    },
    {
      "cell_type": "code",
      "execution_count": null,
      "metadata": {
        "colab": {
          "base_uri": "https://localhost:8080/"
        },
        "id": "3p5l6K9tYifW",
        "outputId": "20e6802c-5a77-4b4e-8a4b-97d2dec9671e"
      },
      "outputs": [
        {
          "name": "stdout",
          "output_type": "stream",
          "text": [
            "1\n",
            "25\n",
            "4\n",
            "53\n",
            "no item left\n"
          ]
        }
      ],
      "source": [
        "digits=[1,25,4,53]\n",
        "for i in digits:\n",
        "  if i in digits:\n",
        "    print(i)\n",
        "else:\n",
        "  print(\"no item left\")"
      ]
    },
    {
      "cell_type": "code",
      "execution_count": null,
      "metadata": {
        "colab": {
          "base_uri": "https://localhost:8080/"
        },
        "id": "1Rj7lJoK-0nm",
        "outputId": "bec26a80-c534-4a6a-919b-ce4024827a04"
      },
      "outputs": [
        {
          "name": "stdout",
          "output_type": "stream",
          "text": [
            "given i is not present in the list\n",
            "53\n"
          ]
        }
      ],
      "source": [
        "digits=[1,25,4,53]\n",
        "for i in digits:\n",
        "  if i==8:        #we will given the number which is not present in the list\n",
        "    continue\n",
        "    print(i)\n",
        "else:\n",
        "  print(\"given i is not present in the list\")        #below onw and this one will get same answer\n",
        "  print(i)        #only else block will execute"
      ]
    },
    {
      "cell_type": "code",
      "execution_count": null,
      "metadata": {
        "colab": {
          "base_uri": "https://localhost:8080/"
        },
        "id": "E76hOZu2ASnk",
        "outputId": "72107d43-4dcd-44f2-ce04-29f0275da403"
      },
      "outputs": [
        {
          "name": "stdout",
          "output_type": "stream",
          "text": [
            "53\n"
          ]
        }
      ],
      "source": [
        "digits=[1,25,4,53]\n",
        "for i in digits:    #we are giving the number which is not present in the list\n",
        "  if i==8:          # both get same answer\n",
        "    break           #only else block will execute\n",
        "    print(i)\n",
        "else:\n",
        "  print(i)"
      ]
    },
    {
      "cell_type": "code",
      "execution_count": null,
      "metadata": {
        "colab": {
          "base_uri": "https://localhost:8080/"
        },
        "id": "b_xl2CBfAfT-",
        "outputId": "3bc8753e-34b7-4e20-a8dc-26df9ee77ffa"
      },
      "outputs": [
        {
          "name": "stdout",
          "output_type": "stream",
          "text": [
            "1\n",
            "25\n",
            "53\n",
            "53\n"
          ]
        }
      ],
      "source": [
        "digits=[1,25,4,53]\n",
        "for i in digits:\n",
        "  if i==4:          #expect the given number remaining will print\n",
        "    continue\n",
        "  print(i)\n",
        "else:\n",
        "  print(i)          #else block will execute"
      ]
    },
    {
      "cell_type": "code",
      "execution_count": null,
      "metadata": {
        "colab": {
          "base_uri": "https://localhost:8080/"
        },
        "id": "6kuc2rheArpD",
        "outputId": "622b82ac-dafc-4482-d91d-b062189b0100"
      },
      "outputs": [
        {
          "name": "stdout",
          "output_type": "stream",
          "text": [
            "1\n",
            "25\n"
          ]
        }
      ],
      "source": [
        "digits=[1,25,4,53]\n",
        "for i in digits:\n",
        "  if i==4:          # it wil print only before given number\n",
        "    break\n",
        "  print(i)\n",
        "else:\n",
        "  print(i)          #else block will not execute"
      ]
    },
    {
      "cell_type": "code",
      "execution_count": null,
      "metadata": {
        "colab": {
          "base_uri": "https://localhost:8080/"
        },
        "id": "6nOwQTGiDGq4",
        "outputId": "9779fd2d-4204-4689-ee43-77b4f24208ca"
      },
      "outputs": [
        {
          "name": "stdout",
          "output_type": "stream",
          "text": [
            "41\n",
            "25\n",
            "36\n"
          ]
        }
      ],
      "source": [
        "num=[41,25,36,142,5]\n",
        "for i in num:\n",
        "  if i==142:      # it will print upto that number\n",
        "    break\n",
        "  print(i)"
      ]
    },
    {
      "cell_type": "code",
      "execution_count": null,
      "metadata": {
        "colab": {
          "base_uri": "https://localhost:8080/"
        },
        "id": "XZgBDFGsDtkV",
        "outputId": "ccec094e-9599-4e61-fe59-c4b8879b8800"
      },
      "outputs": [
        {
          "name": "stdout",
          "output_type": "stream",
          "text": [
            "41\n",
            "25\n",
            "36\n",
            "5\n"
          ]
        }
      ],
      "source": [
        "num=[41,25,36,142,5]\n",
        "for i in num:\n",
        "  if i==142:        #expect that number remaining will print\n",
        "    continue\n",
        "  print(i)"
      ]
    },
    {
      "cell_type": "code",
      "execution_count": null,
      "metadata": {
        "colab": {
          "base_uri": "https://localhost:8080/"
        },
        "id": "RELmr4NoEDyP",
        "outputId": "6f07561e-96de-4bf9-cef1-8c730e8785df"
      },
      "outputs": [
        {
          "name": "stdout",
          "output_type": "stream",
          "text": [
            "<class 'dict'>\n",
            "{101: 'python', 102: 'java', 103: 'c'}\n",
            "c\n"
          ]
        }
      ],
      "source": [
        "num={101:'python',102:'java',103:'c'}\n",
        "print(type(num))\n",
        "print(num)\n",
        "for i in num:\n",
        "  if i==103:\n",
        "    print(num[i])\n"
      ]
    },
    {
      "cell_type": "code",
      "execution_count": null,
      "metadata": {
        "colab": {
          "base_uri": "https://localhost:8080/"
        },
        "id": "hFPRcNxWE1c8",
        "outputId": "d4616181-ffb3-480d-fdca-3cf57635437e"
      },
      "outputs": [
        {
          "name": "stdout",
          "output_type": "stream",
          "text": [
            "112550\n",
            "651\n"
          ]
        }
      ],
      "source": [
        "num=[112101,45,12,63,14,25,36,254]\n",
        "a=[12,44,21,523,51]\n",
        "sum=0\n",
        "sum1=0\n",
        "for i in num:\n",
        "  sum=sum+i\n",
        "print(sum)\n",
        "for i in a:\n",
        "  sum1=sum1+i\n",
        "print(sum1)\n"
      ]
    },
    {
      "cell_type": "markdown",
      "metadata": {
        "id": "mLS0TTSUUZt0"
      },
      "source": [
        "5/07/25 class\n"
      ]
    },
    {
      "cell_type": "code",
      "execution_count": null,
      "metadata": {
        "colab": {
          "base_uri": "https://localhost:8080/"
        },
        "id": "76o0eE2PUd1A",
        "outputId": "8e9ef52f-2397-414f-c4aa-27c9087ea200"
      },
      "outputs": [
        {
          "name": "stdout",
          "output_type": "stream",
          "text": [
            "1\n",
            "2\n",
            "3\n",
            "4\n",
            "6\n",
            "8\n",
            "8\n"
          ]
        }
      ],
      "source": [
        "num={1,4,5,2,3,5,6,8,5,2}\n",
        "for i in num:\n",
        "  if i==5:\n",
        "    continue\n",
        "  print(i)\n",
        "else:\n",
        "    print(i)"
      ]
    },
    {
      "cell_type": "code",
      "execution_count": null,
      "metadata": {
        "colab": {
          "base_uri": "https://localhost:8080/"
        },
        "id": "uVosppR2WNF0",
        "outputId": "786eedc7-6cd6-46c0-e49b-3c21683eb1f7"
      },
      "outputs": [
        {
          "name": "stdout",
          "output_type": "stream",
          "text": [
            "4\n",
            "6\n",
            "8\n",
            "10\n",
            "10 looping statements\n"
          ]
        }
      ],
      "source": [
        "#while loop\n",
        "a=2\n",
        "while a<=8:\n",
        "  a=a+2\n",
        "  print(a)\n",
        "print(a,\"looping statements\")"
      ]
    },
    {
      "cell_type": "code",
      "execution_count": null,
      "metadata": {
        "colab": {
          "base_uri": "https://localhost:8080/"
        },
        "id": "CvD-b7fdYEMr",
        "outputId": "5049e3ac-3058-4e02-dc95-b62aa60c0c0b"
      },
      "outputs": [
        {
          "name": "stdout",
          "output_type": "stream",
          "text": [
            "16\n",
            "12\n",
            "8\n",
            "8\n"
          ]
        }
      ],
      "source": [
        "x=20\n",
        "while (x>=10):          #20<=10   16<=10    12<=10    8<=10   false\n",
        "  x=x-4                 #20-4     16-4      12-4\n",
        "  print(x)              #16       12        8\n",
        "print(x)"
      ]
    },
    {
      "cell_type": "code",
      "execution_count": null,
      "metadata": {
        "colab": {
          "base_uri": "https://localhost:8080/"
        },
        "id": "7kz38KAdZUhv",
        "outputId": "80a26769-9e16-47dd-bc7a-07d0468cdc4f"
      },
      "outputs": [
        {
          "name": "stdout",
          "output_type": "stream",
          "text": [
            "20\n",
            "17\n",
            "14\n",
            "11\n",
            "8\n",
            "5\n",
            "2\n",
            "-1\n",
            "good bye\n"
          ]
        }
      ],
      "source": [
        "n=20\n",
        "while (n>0):\n",
        "  print(n)\n",
        "  n=n-3\n",
        "else:\n",
        "  print(n)\n",
        "  print(\"good bye\")"
      ]
    },
    {
      "cell_type": "code",
      "execution_count": null,
      "metadata": {
        "colab": {
          "base_uri": "https://localhost:8080/"
        },
        "id": "Wi426eiyadOU",
        "outputId": "e2c6cedc-26dd-4578-90f4-93ff2d40452a"
      },
      "outputs": [
        {
          "name": "stdout",
          "output_type": "stream",
          "text": [
            "a is 1\n",
            "b is 1\n",
            "1 1\n",
            "b is 2\n",
            "1 2\n",
            "a is 2\n",
            "b is 1\n",
            "2 1\n",
            "b is 2\n",
            "2 2\n"
          ]
        }
      ],
      "source": [
        "for a in range(1,3):\n",
        "  print(\"a is\",a)\n",
        "  for b in range(1,3):\n",
        "    print(\"b is\",b)\n",
        "    print(a,b)"
      ]
    },
    {
      "cell_type": "code",
      "execution_count": null,
      "metadata": {
        "colab": {
          "base_uri": "https://localhost:8080/"
        },
        "id": "tqslwD2ZadVd",
        "outputId": "bf69c8e4-6986-4310-d818-176f48355a9f"
      },
      "outputs": [
        {
          "name": "stdout",
          "output_type": "stream",
          "text": [
            "1\n",
            "2\n"
          ]
        }
      ],
      "source": [
        "for i in range(1,3):\n",
        "  print(i)"
      ]
    },
    {
      "cell_type": "code",
      "execution_count": null,
      "metadata": {
        "colab": {
          "base_uri": "https://localhost:8080/"
        },
        "id": "7ucf2-2qaLG8",
        "outputId": "a1a0d129-e202-405c-a30c-aae88b292b99"
      },
      "outputs": [
        {
          "name": "stdout",
          "output_type": "stream",
          "text": [
            "1 1\n",
            "2 1\n",
            "1 2\n",
            "2 2\n"
          ]
        }
      ],
      "source": [
        "for a in range(1,3):\n",
        "  for b in range(1,3):\n",
        "    print(b,a)"
      ]
    },
    {
      "cell_type": "code",
      "execution_count": null,
      "metadata": {
        "colab": {
          "base_uri": "https://localhost:8080/"
        },
        "id": "vin7w30GdLly",
        "outputId": "fd3cd6a2-3d3f-4d1e-eebb-955eefe5f802"
      },
      "outputs": [
        {
          "name": "stdout",
          "output_type": "stream",
          "text": [
            "1 1\n",
            "1 2\n",
            "1 3\n",
            "1\n",
            "2 1\n",
            "2 2\n",
            "2 3\n",
            "2\n",
            "3 1\n",
            "3 2\n",
            "3 3\n",
            "3\n"
          ]
        }
      ],
      "source": [
        "for a in range(1,4):        # outer loop will execute in 3 times\n",
        "  for b in range(1,4):      #inner loop will execute in 3 times\n",
        "    print(a,b)\n",
        "  print(a)"
      ]
    },
    {
      "cell_type": "code",
      "execution_count": null,
      "metadata": {
        "colab": {
          "base_uri": "https://localhost:8080/"
        },
        "id": "m7UVpo9neVNI",
        "outputId": "6b066dc0-943e-4d29-e0a8-25be2c53f3f2"
      },
      "outputs": [
        {
          "name": "stdout",
          "output_type": "stream",
          "text": [
            "1*1=1\n",
            "1*2=2\n",
            "1*3=3\n",
            "2*1=2\n",
            "2*2=4\n",
            "2*3=6\n",
            "3*1=3\n",
            "3*2=6\n",
            "3*3=9\n"
          ]
        }
      ],
      "source": [
        "for a in range(1,4):\n",
        "  for b in range(1,4):\n",
        "    print('%d*%d=%d'%(a,b,a*b))\n"
      ]
    },
    {
      "cell_type": "code",
      "execution_count": null,
      "metadata": {
        "colab": {
          "base_uri": "https://localhost:8080/"
        },
        "id": "K5JD3-uSfPA-",
        "outputId": "fed50803-6376-465f-9c09-7f61a01779b1"
      },
      "outputs": [
        {
          "name": "stdout",
          "output_type": "stream",
          "text": [
            "enter number of rows:5\n",
            " * \n",
            " *  * \n",
            " *  *  * \n",
            " *  *  *  * \n",
            " *  *  *  *  * \n"
          ]
        }
      ],
      "source": [
        "#right angle triangle\n",
        "x=int(input(\"enter number of rows:\"))\n",
        "for a in range(1,x+1):\n",
        "  print(' * '*a)             #here * will print for a times"
      ]
    },
    {
      "cell_type": "code",
      "execution_count": null,
      "metadata": {
        "colab": {
          "base_uri": "https://localhost:8080/"
        },
        "id": "Rq5NnnVibP1c",
        "outputId": "d299a5c6-8e10-481c-d0b1-fbfcd7bd122c"
      },
      "outputs": [
        {
          "name": "stdout",
          "output_type": "stream",
          "text": [
            "* \n",
            "* * \n",
            "* * * \n",
            "* * * * \n",
            "* * * * * \n"
          ]
        }
      ],
      "source": [
        "x=5\n",
        "for i in range(x):\n",
        "  for j in range(i+1):\n",
        "    print(\"*\",end=\" \")\n",
        "  print()"
      ]
    },
    {
      "cell_type": "code",
      "execution_count": null,
      "metadata": {
        "colab": {
          "base_uri": "https://localhost:8080/"
        },
        "id": "DXAXC25YLSnb",
        "outputId": "ef706c8e-7099-4017-b1d1-f36369ca30aa"
      },
      "outputs": [
        {
          "name": "stdout",
          "output_type": "stream",
          "text": [
            " *  *  *  *  * \n",
            " *  *  *  * \n",
            " *  *  * \n",
            " *  * \n",
            " * \n",
            "\n"
          ]
        }
      ],
      "source": [
        "#reverse right angle triangle\n",
        "x=5\n",
        "for i in range(x,0,-1):\n",
        "  print(\" * \"*i)              #this line will print \"*\" for i time\n",
        "print()                  #for example if i is 5 then * will print for 5 times"
      ]
    },
    {
      "cell_type": "code",
      "execution_count": null,
      "metadata": {
        "colab": {
          "base_uri": "https://localhost:8080/"
        },
        "id": "XvvCA--iMseu",
        "outputId": "512f67f2-49d7-413e-8ee3-d927d8cbae99"
      },
      "outputs": [
        {
          "name": "stdout",
          "output_type": "stream",
          "text": [
            "****\n",
            "****\n",
            "****\n",
            "****\n"
          ]
        }
      ],
      "source": [
        "#square pattern program\n",
        "x=4\n",
        "for i in range(x):\n",
        "  for j in range(x):\n",
        "    print(\"*\",end=\"\")\n",
        "  print()"
      ]
    },
    {
      "cell_type": "code",
      "execution_count": null,
      "metadata": {
        "colab": {
          "base_uri": "https://localhost:8080/"
        },
        "id": "C4IT1GG0bGWA",
        "outputId": "d66cc994-6882-46c5-e308-d725fec77253"
      },
      "outputs": [
        {
          "name": "stdout",
          "output_type": "stream",
          "text": [
            "****\n",
            "****\n",
            "****\n",
            "****\n",
            "\n"
          ]
        }
      ],
      "source": [
        "for i in range(0,4):\n",
        "  print(\"*\"*4)\n",
        "print()"
      ]
    },
    {
      "cell_type": "code",
      "execution_count": null,
      "metadata": {
        "colab": {
          "base_uri": "https://localhost:8080/"
        },
        "id": "HHaLJCD-dSmZ",
        "outputId": "afae3228-dcf0-4bdd-cd60-8d281e9904e5"
      },
      "outputs": [
        {
          "name": "stdout",
          "output_type": "stream",
          "text": [
            "mmmmm\n",
            "mmmmm\n",
            "mmmmm\n",
            "mmmmm\n",
            "mmmmm\n"
          ]
        }
      ],
      "source": [
        "x=5\n",
        "for i in range(x):          #if outer loop execute one time then inner loop will executed for x times that means here 5 times\n",
        "  print(x)                  #if we not put end=\"\" then result will be in mixed form in a straight line\n",
        "  for j in range(x):        #if we not put the print in the outer loop then 5 will not print\n",
        "    print(\"m\",end=\"\")       #if we not put the print in the last line then all are in the mixed form\n",
        "  print()"
      ]
    },
    {
      "cell_type": "code",
      "execution_count": null,
      "metadata": {
        "colab": {
          "base_uri": "https://localhost:8080/"
        },
        "id": "dhkMHWpkew9q",
        "outputId": "90d4b418-44a4-445c-dd5e-3d94bdad677d"
      },
      "outputs": [
        {
          "name": "stdout",
          "output_type": "stream",
          "text": [
            "enter the number6\n",
            "6 * 1 = 6\n",
            "6 * 2 = 12\n",
            "6 * 3 = 18\n",
            "6 * 4 = 24\n",
            "6 * 5 = 30\n",
            "6 * 6 = 36\n",
            "6 * 7 = 42\n",
            "6 * 8 = 48\n",
            "6 * 9 = 54\n",
            "6 * 10 = 60\n"
          ]
        }
      ],
      "source": [
        "x=int(input(\"enter the number\"))\n",
        "for i in range(1,11):\n",
        "  print(x,\"*\",i,\"=\",i*x)\n"
      ]
    },
    {
      "cell_type": "markdown",
      "metadata": {
        "id": "apUX2aYXnVCn"
      },
      "source": [
        "7/7/25"
      ]
    },
    {
      "cell_type": "code",
      "execution_count": null,
      "metadata": {
        "colab": {
          "base_uri": "https://localhost:8080/"
        },
        "id": "CsDff7pXnXmI",
        "outputId": "8bb58a2f-30fa-4232-a005-8a477900b4f6"
      },
      "outputs": [
        {
          "name": "stdout",
          "output_type": "stream",
          "text": [
            "enter number of rows5\n",
            "*****\n",
            "****\n",
            "***\n",
            "**\n",
            "*\n"
          ]
        }
      ],
      "source": [
        "x=int(input(\"enter number of rows\"))\n",
        "for i in range(1,x+1):                         #for i in range(1,x+1):\n",
        "  for j in range(i,x+2-1):                        #for j in range(i,x+2-1):\n",
        "    print(\"*\",end=\"\")\n",
        "  print()"
      ]
    },
    {
      "cell_type": "code",
      "execution_count": null,
      "metadata": {
        "colab": {
          "base_uri": "https://localhost:8080/"
        },
        "id": "l-DTODxwy-p8",
        "outputId": "34c103cb-8f9b-487b-ab71-1528d9de2076"
      },
      "outputs": [
        {
          "name": "stdout",
          "output_type": "stream",
          "text": [
            "current letter p\n",
            "current letter y\n",
            "current letter t\n",
            "this is passed block\n",
            "current letter h\n",
            "current letter o\n",
            "current letter n\n"
          ]
        }
      ],
      "source": [
        "for letter in \"python\":\n",
        "  if letter =='h':\n",
        "    pass\n",
        "    print(\"this is passed block\")\n",
        "  print(\"current letter\",letter)"
      ]
    },
    {
      "cell_type": "markdown",
      "metadata": {
        "id": "Bi2vYcsQeW0M"
      },
      "source": [
        "8/7/25"
      ]
    },
    {
      "cell_type": "code",
      "execution_count": null,
      "metadata": {
        "colab": {
          "base_uri": "https://localhost:8080/"
        },
        "id": "8gQlwq-ceY19",
        "outputId": "e2821645-998d-4066-f364-2886af6ac27a"
      },
      "outputs": [
        {
          "name": "stdout",
          "output_type": "stream",
          "text": [
            "enter the number5\n",
            "55555\n",
            "555\n",
            "5\n"
          ]
        }
      ],
      "source": [
        "x=int(input(\"enter the number\"))\n",
        "for i in range(0,x,2):\n",
        "  for j in range(i,x):\n",
        "    print(x,end=\"\")\n",
        "  print()"
      ]
    },
    {
      "cell_type": "code",
      "execution_count": null,
      "metadata": {
        "colab": {
          "base_uri": "https://localhost:8080/"
        },
        "id": "Bzv4-nQRfwNn",
        "outputId": "9925cff0-6d4e-4a48-d309-8df5a90a95bc"
      },
      "outputs": [
        {
          "name": "stdout",
          "output_type": "stream",
          "text": [
            "enter x:2\n",
            "enter y:9\n",
            "*********\n",
            "*******\n",
            "*****\n",
            "***\n"
          ]
        }
      ],
      "source": [
        "x=int(input(\"enter x:\"))\n",
        "y=int(input(\"enter y:\"))\n",
        "for i in range(y,x,-2):\n",
        "  for j in range(i):\n",
        "    print(\"*\",end=\"\")\n",
        "  print()"
      ]
    },
    {
      "cell_type": "code",
      "execution_count": null,
      "metadata": {
        "colab": {
          "base_uri": "https://localhost:8080/"
        },
        "id": "6yJunaQIj031",
        "outputId": "5326ecc4-2f22-43ca-8c02-911e37e52494"
      },
      "outputs": [
        {
          "name": "stdout",
          "output_type": "stream",
          "text": [
            "enter the range9\n",
            "0 even\n",
            "2 even\n",
            "4 even\n",
            "6 even\n",
            "8 even\n",
            "1 odd\n",
            "3 odd\n",
            "5 odd\n",
            "7 odd\n"
          ]
        }
      ],
      "source": [
        "x=int(input(\"enter the range\"))\n",
        "for i in range(0,x,2):\n",
        "  #if i%2==0\n",
        "  print(i,\"even\")     #to print even numbers\n",
        "for j in range(1,x,2):\n",
        "  #if j%2==1:\n",
        "    print(j,\"odd\")    #to print odd numbers\n"
      ]
    },
    {
      "cell_type": "code",
      "execution_count": null,
      "metadata": {
        "colab": {
          "base_uri": "https://localhost:8080/"
        },
        "id": "y7PUBujSyeWH",
        "outputId": "2e2dbe86-b32a-4693-fa0f-7e51b196976f"
      },
      "outputs": [
        {
          "name": "stdout",
          "output_type": "stream",
          "text": [
            "enter the number:8\n",
            "8 armstrong number\n"
          ]
        }
      ],
      "source": [
        "#armstrong number or not\n",
        "x=int(input(\"enter the number:\"))   #153\n",
        "a=x                                 #a=153,x=153\n",
        "b=len(str(a))                       #b=3\n",
        "sum=0                               #sum=0\n",
        "while x!=0:\n",
        "  d=x%10                            #153%10=3          15%10=5        1%10=1\n",
        "  sum=sum+d**b                      #sum=0+3**3=27     27+5**3=152    152+1**3=153\n",
        "  x=x//10                           #153//10=15        15//10=1       1//10=0\n",
        "if a==sum:\n",
        "  print(sum,\"is a armstrong number\")\n",
        "else:\n",
        "  print(sum,\"is a not armstrong number\")"
      ]
    },
    {
      "cell_type": "markdown",
      "metadata": {
        "id": "qAVKPRdSBnGN"
      },
      "source": []
    },
    {
      "cell_type": "markdown",
      "metadata": {
        "id": "P0Mji9onA82h"
      },
      "source": [
        "main logic in armstrong number is for example153 =1^3+5^3+3^3\n",
        "that means if the sum of powers of the digits is equal to the number\n",
        "if there is a four digit number then we need to take power of 4 like that"
      ]
    },
    {
      "cell_type": "code",
      "execution_count": null,
      "metadata": {
        "colab": {
          "base_uri": "https://localhost:8080/"
        },
        "id": "7c2S2aCx0zYJ",
        "outputId": "f767e5fb-fb50-4cc7-bf41-55651de144e0"
      },
      "outputs": [
        {
          "name": "stdout",
          "output_type": "stream",
          "text": [
            "enter the number:160\n",
            "0\n",
            "1\n",
            "2\n",
            "3\n",
            "4\n",
            "5\n",
            "6\n",
            "7\n",
            "8\n",
            "9\n",
            "153\n"
          ]
        }
      ],
      "source": [
        "#print armstrong numbers\n",
        "x=int(input(\"enter the number:\"))     # here x is the number which we are giving\n",
        "for i in range(x):\n",
        "  num=i                   #here we will take i because i is the starting number\n",
        "  result=0\n",
        "  n=len(str(i))\n",
        "  while i!=0:\n",
        "    digit=i%10\n",
        "    result=result+digit**n\n",
        "    i=i//10\n",
        "  if num==result:\n",
        "    print(result)\n"
      ]
    },
    {
      "cell_type": "code",
      "execution_count": null,
      "metadata": {
        "colab": {
          "base_uri": "https://localhost:8080/"
        },
        "id": "e6BmF0Iy19cz",
        "outputId": "98e49a5c-00a8-45cb-b34d-7913684d5f69"
      },
      "outputs": [
        {
          "name": "stdout",
          "output_type": "stream",
          "text": [
            "enter number160\n",
            "0\n",
            "1\n",
            "2\n",
            "3\n",
            "4\n",
            "5\n",
            "6\n",
            "7\n",
            "8\n",
            "9\n",
            "153\n"
          ]
        }
      ],
      "source": [
        "a=int(input(\"enter number\"))\n",
        "for i in range(a):\n",
        "  num=i\n",
        "  b=len(str(i))\n",
        "  r=0\n",
        "  while i!=0:\n",
        "    d=i%10\n",
        "    r=r+d**b\n",
        "    i=i//10\n",
        "  if num==r:\n",
        "    print(r)"
      ]
    },
    {
      "cell_type": "code",
      "execution_count": null,
      "metadata": {
        "colab": {
          "base_uri": "https://localhost:8080/",
          "height": 368
        },
        "id": "nr9UCVXZ19nu",
        "outputId": "60c8ef77-ed51-4a28-87f4-d3e8e2031af5"
      },
      "outputs": [
        {
          "ename": "KeyboardInterrupt",
          "evalue": "Interrupted by user",
          "output_type": "error",
          "traceback": [
            "\u001b[0;31m---------------------------------------------------------------------------\u001b[0m",
            "\u001b[0;31mKeyboardInterrupt\u001b[0m                         Traceback (most recent call last)",
            "\u001b[0;32m/tmp/ipython-input-1-284906358.py\u001b[0m in \u001b[0;36m<cell line: 0>\u001b[0;34m()\u001b[0m\n\u001b[0;32m----> 1\u001b[0;31m \u001b[0mx\u001b[0m\u001b[0;34m=\u001b[0m\u001b[0mint\u001b[0m\u001b[0;34m(\u001b[0m\u001b[0minput\u001b[0m\u001b[0;34m(\u001b[0m\u001b[0;34m\"emter the number\"\u001b[0m\u001b[0;34m)\u001b[0m\u001b[0;34m)\u001b[0m\u001b[0;34m\u001b[0m\u001b[0;34m\u001b[0m\u001b[0m\n\u001b[0m\u001b[1;32m      2\u001b[0m \u001b[0ma\u001b[0m\u001b[0;34m=\u001b[0m\u001b[0mx\u001b[0m\u001b[0;34m\u001b[0m\u001b[0;34m\u001b[0m\u001b[0m\n\u001b[1;32m      3\u001b[0m \u001b[0msum\u001b[0m\u001b[0;34m=\u001b[0m\u001b[0;36m0\u001b[0m\u001b[0;34m\u001b[0m\u001b[0;34m\u001b[0m\u001b[0m\n\u001b[1;32m      4\u001b[0m \u001b[0mb\u001b[0m\u001b[0;34m=\u001b[0m\u001b[0mlen\u001b[0m\u001b[0;34m(\u001b[0m\u001b[0mstr\u001b[0m\u001b[0;34m(\u001b[0m\u001b[0ma\u001b[0m\u001b[0;34m)\u001b[0m\u001b[0;34m)\u001b[0m\u001b[0;34m\u001b[0m\u001b[0;34m\u001b[0m\u001b[0m\n\u001b[1;32m      5\u001b[0m \u001b[0;32mwhile\u001b[0m \u001b[0ma\u001b[0m\u001b[0;34m!=\u001b[0m\u001b[0;36m0\u001b[0m\u001b[0;34m:\u001b[0m\u001b[0;34m\u001b[0m\u001b[0;34m\u001b[0m\u001b[0m\n",
            "\u001b[0;32m/usr/local/lib/python3.11/dist-packages/ipykernel/kernelbase.py\u001b[0m in \u001b[0;36mraw_input\u001b[0;34m(self, prompt)\u001b[0m\n\u001b[1;32m   1175\u001b[0m                 \u001b[0;34m\"raw_input was called, but this frontend does not support input requests.\"\u001b[0m\u001b[0;34m\u001b[0m\u001b[0;34m\u001b[0m\u001b[0m\n\u001b[1;32m   1176\u001b[0m             )\n\u001b[0;32m-> 1177\u001b[0;31m         return self._input_request(\n\u001b[0m\u001b[1;32m   1178\u001b[0m             \u001b[0mstr\u001b[0m\u001b[0;34m(\u001b[0m\u001b[0mprompt\u001b[0m\u001b[0;34m)\u001b[0m\u001b[0;34m,\u001b[0m\u001b[0;34m\u001b[0m\u001b[0;34m\u001b[0m\u001b[0m\n\u001b[1;32m   1179\u001b[0m             \u001b[0mself\u001b[0m\u001b[0;34m.\u001b[0m\u001b[0m_parent_ident\u001b[0m\u001b[0;34m[\u001b[0m\u001b[0;34m\"shell\"\u001b[0m\u001b[0;34m]\u001b[0m\u001b[0;34m,\u001b[0m\u001b[0;34m\u001b[0m\u001b[0;34m\u001b[0m\u001b[0m\n",
            "\u001b[0;32m/usr/local/lib/python3.11/dist-packages/ipykernel/kernelbase.py\u001b[0m in \u001b[0;36m_input_request\u001b[0;34m(self, prompt, ident, parent, password)\u001b[0m\n\u001b[1;32m   1217\u001b[0m             \u001b[0;32mexcept\u001b[0m \u001b[0mKeyboardInterrupt\u001b[0m\u001b[0;34m:\u001b[0m\u001b[0;34m\u001b[0m\u001b[0;34m\u001b[0m\u001b[0m\n\u001b[1;32m   1218\u001b[0m                 \u001b[0;31m# re-raise KeyboardInterrupt, to truncate traceback\u001b[0m\u001b[0;34m\u001b[0m\u001b[0;34m\u001b[0m\u001b[0m\n\u001b[0;32m-> 1219\u001b[0;31m                 \u001b[0;32mraise\u001b[0m \u001b[0mKeyboardInterrupt\u001b[0m\u001b[0;34m(\u001b[0m\u001b[0;34m\"Interrupted by user\"\u001b[0m\u001b[0;34m)\u001b[0m \u001b[0;32mfrom\u001b[0m \u001b[0;32mNone\u001b[0m\u001b[0;34m\u001b[0m\u001b[0;34m\u001b[0m\u001b[0m\n\u001b[0m\u001b[1;32m   1220\u001b[0m             \u001b[0;32mexcept\u001b[0m \u001b[0mException\u001b[0m\u001b[0;34m:\u001b[0m\u001b[0;34m\u001b[0m\u001b[0;34m\u001b[0m\u001b[0m\n\u001b[1;32m   1221\u001b[0m                 \u001b[0mself\u001b[0m\u001b[0;34m.\u001b[0m\u001b[0mlog\u001b[0m\u001b[0;34m.\u001b[0m\u001b[0mwarning\u001b[0m\u001b[0;34m(\u001b[0m\u001b[0;34m\"Invalid Message:\"\u001b[0m\u001b[0;34m,\u001b[0m \u001b[0mexc_info\u001b[0m\u001b[0;34m=\u001b[0m\u001b[0;32mTrue\u001b[0m\u001b[0;34m)\u001b[0m\u001b[0;34m\u001b[0m\u001b[0;34m\u001b[0m\u001b[0m\n",
            "\u001b[0;31mKeyboardInterrupt\u001b[0m: Interrupted by user"
          ]
        }
      ],
      "source": [
        "x=int(input(\"emter the number\"))\n",
        "a=x\n",
        "sum=0\n",
        "b=len(str(a))\n",
        "while a!=0:\n",
        "  d=a%10\n",
        "  sum=sum+d**b\n",
        "  a=a//10\n",
        "if sum==x:\n",
        "  print(x,\"Armstrong number\")\n",
        "else:\n",
        "  print(x,\"not a armstong number1\")"
      ]
    },
    {
      "cell_type": "code",
      "execution_count": null,
      "metadata": {
        "colab": {
          "base_uri": "https://localhost:8080/"
        },
        "id": "GA8d0nt6nhDW",
        "outputId": "4da96fcc-ec9b-4d38-e95c-e6f189366d1b"
      },
      "outputs": [
        {
          "name": "stdout",
          "output_type": "stream",
          "text": [
            "enter the number10\n",
            "0\n",
            "1\n",
            "2\n",
            "3\n",
            "4\n",
            "5\n",
            "6\n",
            "7\n",
            "8\n",
            "9\n"
          ]
        }
      ],
      "source": [
        "x=int(input(\"enter the number\"))\n",
        "for i in range(x):\n",
        "  num=i\n",
        "  sum=0\n",
        "  b=len(str(i))\n",
        "  while i!=0:\n",
        "    d=i%10\n",
        "    sum=sum+d**b\n",
        "    i=i//10\n",
        "  if sum==num:\n",
        "    print(sum)"
      ]
    },
    {
      "cell_type": "code",
      "execution_count": null,
      "metadata": {
        "colab": {
          "base_uri": "https://localhost:8080/"
        },
        "id": "Bv59gCqIxYVE",
        "outputId": "1d3fdd2e-e3ce-4405-bfb8-b472839d6dcb"
      },
      "outputs": [
        {
          "name": "stdout",
          "output_type": "stream",
          "text": [
            "enter the range10\n",
            "1,2,3,5,8,13,21,34,55,89,"
          ]
        }
      ],
      "source": [
        "#fibonacci series\n",
        "a=0\n",
        "b=1\n",
        "x=int(input(\"enter the range\"))\n",
        "for i in range(x):\n",
        "  c=a+b\n",
        "  a=b\n",
        "  b=c\n",
        "  print(c,end=\",\")"
      ]
    },
    {
      "cell_type": "code",
      "execution_count": null,
      "metadata": {
        "colab": {
          "base_uri": "https://localhost:8080/"
        },
        "id": "W6zngPEB0_7T",
        "outputId": "1d5f8b5d-476c-43ca-b710-4cc1e18e5658"
      },
      "outputs": [
        {
          "name": "stdout",
          "output_type": "stream",
          "text": [
            "0\n",
            "1\n",
            "enter the number10\n",
            "1,2,3,5,8,13,21,34,55,89,"
          ]
        }
      ],
      "source": [
        "a=0\n",
        "b=1\n",
        "print(a)\n",
        "print(b)\n",
        "x=int(input(\"enter the number\"))\n",
        "if x==1:\n",
        "  print(1)\n",
        "elif x==0:\n",
        "  print(0)\n",
        "else:\n",
        "  for i in range(x):\n",
        "    c=a+b\n",
        "    a=b\n",
        "    b=c\n",
        "    print(c,end=\",\")"
      ]
    },
    {
      "cell_type": "markdown",
      "metadata": {
        "id": "THUiS0cdwhvy"
      },
      "source": [
        "9/7/25"
      ]
    },
    {
      "cell_type": "markdown",
      "metadata": {
        "id": "EmF5rr5RwjhV"
      },
      "source": [
        "capitalize()\tConverts the first character to upper case\n",
        "\n",
        "casefold()\tConverts string into lower case\n",
        "\n",
        "center()\tReturns a centered string\n",
        "\n",
        "count()\tReturns the number of times a specified value occurs in a string\n",
        "\n",
        "encode()\tReturns an encoded version of the string/\n",
        "\n",
        "endswith()\tReturns true if the string ends with the specified value\n",
        "\n",
        "expandtabs()\tSets the tab size of the string\n",
        "\n",
        "find()\tSearches the string for a specified value and returns the position of\n",
        "where it was found\n",
        "\n",
        "format()\tFormats specified values in a string\n",
        "\n",
        "format_map()\tFormats specified values from a dictionary in a string\n",
        "\n",
        "index()\tSearches the string for a specified value and returns the position of where it was found\n",
        "\n",
        "isalnum()\tReturns True if all characters in the string are alphanumeric\n",
        "\n",
        "isalpha()\tReturns True if all characters in the string are in the alphabet\n",
        "\n",
        "isascii()\tReturns True if all characters in the string are ascii characters\n",
        "\n",
        "isdecimal()\tReturns True if all characters in the string are decimals\n",
        "\n",
        "isdigit()\tReturns True if all characters in the string are digits\n",
        "\n",
        "isidentifier()\tReturns True if the string is an identifier\n",
        "\n",
        "islower()\tReturns True if all characters in the string are lower case\n",
        "\n",
        "isnumeric()\tReturns True if all characters in the string are numeric\n",
        "\n",
        "isprintable()\tReturns True if all characters in the string are printable\n",
        "\n",
        "isspace()\tReturns True if all characters in the string are whitespaces\n",
        "\n",
        "istitle()\tReturns True if the string follows the rules of a title\n",
        "\n",
        "isupper()\tReturns True if all characters in the string are upper case\n",
        "\n",
        "join()\tConverts the elements of an iterable into a string\n",
        "\n",
        "ljust()\tReturns a left justified version of the string\n",
        "\n",
        "lower()\tConverts a string into lower case\n",
        "\n",
        "lstrip()\tReturns a left trim version of\n",
        "the strin\n",
        "\n",
        "maketrans()\tReturns a translation table to be used in translations\n",
        "\n",
        "partition()\tReturns a tuple where the string is parted into three parts\n",
        "\n",
        "replace()\tReturns a string where a specified value is replaced with a specified value\n",
        "\n",
        "rfind()\tSearches the string for a specified value and returns the last position of where it was found\n",
        "\n",
        "rindex()\tSearches the string for a specified value and returns the last position of where it was found\n",
        "\n",
        "rjust()\tReturns a right justified version of the string\n",
        "\n",
        "rpartition()\tReturns a tuple where the string is parted into three parts\n",
        "\n",
        "rsplit()\tSplits the string at the specified separator, and returns a list\n",
        "\n",
        "rstrip()\tReturns a right trim version of the string\n",
        "\n",
        "split()\tSplits the string at the specified separator, and returns a list\n",
        "\n",
        "splitlines()\tSplits the string at line breaks and returns a list\n",
        "\n",
        "startswith()\tReturns true if the string starts with the specified value\n",
        "\n",
        "strip()\tReturns a trimmed version of the string\n",
        "\n",
        "swapcase()\tSwaps cases, lower case becomes upper case and vice versa\n",
        "\n",
        "title()\tConverts the first character of each word to upper case\n",
        "\n",
        "translate()\tReturns a translated string\n",
        "\n",
        "upper()\tConverts a string into upper case\n",
        "\n",
        "zfill()\tFills the string with a specified number of 0 values at the beginning\n"
      ]
    },
    {
      "cell_type": "code",
      "execution_count": null,
      "metadata": {
        "colab": {
          "base_uri": "https://localhost:8080/"
        },
        "id": "5bomZuwp5sX1",
        "outputId": "a563c0b5-bff9-4025-b0ae-70d0da0e58bd"
      },
      "outputs": [
        {
          "name": "stdout",
          "output_type": "stream",
          "text": [
            "Data science\n",
            "Data analytics\n",
            "False\n",
            "True\n",
            "False\n",
            "True\n",
            "False\n",
            "True\n",
            "False\n",
            "True\n",
            "False\n",
            "6\n",
            "6\n",
            "8\n",
            "python\n",
            "python\n",
            "1522java\n"
          ]
        }
      ],
      "source": [
        "#operations on srings\n",
        "#capitalize------------->it makes the first letter as capital\n",
        "str=\"data science\"\n",
        "print(str.capitalize())\n",
        "str2=\"data analytics\"\n",
        "print(str2.capitalize())\n",
        "str3=\"12451\"         # AttributeError:'str' object has no attribute 'captialize\n",
        "#print(str3.captialize)\n",
        "#isdigit------------->checks wether the given string is digit or not\n",
        "str=\"PYTHON\"\n",
        "str2=\"12451\"\n",
        "str3=\"12java\"\n",
        "print(str.isdigit())\n",
        "print(str2.isdigit())\n",
        "print(str3.isdigit())\n",
        "#islower----------->checks wether the given number is lower or not\n",
        "a=\"python\"\n",
        "b=\"PYTHON\"\n",
        "c=\"1522java\"\n",
        "print(a.islower())\n",
        "print(b.islower())\n",
        "print(c.islower())\n",
        "#isupper\n",
        "a=\"python\"\n",
        "b=\"PYTHON\"\n",
        "c=\"1522java\"\n",
        "print(a.isupper())\n",
        "print(b.isupper())\n",
        "print(c.isupper())\n",
        "#len\n",
        "a=\"python\"\n",
        "b=\"PYTHON\"\n",
        "c=\"1522java\"\n",
        "print(len(a))\n",
        "print(len(b))\n",
        "print(len(c))\n",
        "#lower\n",
        "a=\"python\"\n",
        "b=\"PYTHON\"\n",
        "c=\"1522java\"\n",
        "print(a.lower())\n",
        "print(b.lower())\n",
        "print(c.lower())"
      ]
    },
    {
      "cell_type": "code",
      "execution_count": null,
      "metadata": {
        "colab": {
          "base_uri": "https://localhost:8080/"
        },
        "id": "OUXpk-ko-uOF",
        "outputId": "fa314910-6d80-49d3-e1d3-d8216a1e7dcc"
      },
      "outputs": [
        {
          "name": "stdout",
          "output_type": "stream",
          "text": [
            "y\n",
            "Y\n",
            "z\n",
            "h\n",
            "H\n",
            "1\n",
            "hi hello medam\n",
            "how are you boss be\n",
            "hi f d r\n",
            "a friends d r\n"
          ]
        }
      ],
      "source": [
        "#max\n",
        "a=\"python\"\n",
        "b=\"PYTHON\"\n",
        "c=\"1522javaz\"\n",
        "print(max(a))\n",
        "print(max(b))\n",
        "print(max(c))\n",
        "#min\n",
        "a=\"python\"\n",
        "b=\"PYTHON\"\n",
        "c=\"1522javaz\"\n",
        "print(min(a))\n",
        "print(min(b))\n",
        "print(min(c))\n",
        "#replace\n",
        "a=\"hi hello moo\"\n",
        "b=\"how are you to be\"\n",
        "c=\"a f d r\"\n",
        "print(a.replace(\"moo\",\"medam\"))\n",
        "print(b.replace(\"to\",\"boss\"))\n",
        "print(c.replace(\"a\",\"hi\"))\n",
        "print(c.replace(\"f\",\"friends\"))"
      ]
    },
    {
      "cell_type": "code",
      "execution_count": null,
      "metadata": {
        "colab": {
          "base_uri": "https://localhost:8080/"
        },
        "id": "Ls2rXm4FAWbJ",
        "outputId": "fdb2f925-25a5-440b-d009-e11bebcc8876"
      },
      "outputs": [
        {
          "name": "stdout",
          "output_type": "stream",
          "text": [
            "0000python\n",
            "000000000java154JAVA\n",
            "True\n",
            "True\n",
            "False\n",
            "python/////\n",
            "/////python\n",
            "///python//\n",
            "pthon is user friendly langauge\n",
            "pthon is user friendly langauge\n",
            "pthon is user friendly langauge\n"
          ]
        }
      ],
      "source": [
        "#zfill---------->it add zeroes at the left side of the string\n",
        "a=\"python\"\n",
        "b=\"java154JAVA\"\n",
        "print(a.zfill(10))\n",
        "print(b.zfill(20))\n",
        "#isalnum\n",
        "a=\"python\"\n",
        "b=\"java154JAV\"\n",
        "c=\"@#$\"\n",
        "print(a.isalnum())\n",
        "print(b.isalnum())\n",
        "print(c.isalnum())\n",
        "#adjust\n",
        "a=\"python\"\n",
        "l=11;fillchar=\"/\"\n",
        "print(a.ljust(l,fillchar))\n",
        "print(a.rjust(l,fillchar))\n",
        "print(a.center(l,fillchar))\n",
        "#strip\n",
        "a=\"pthon is user friendly langauge\"\n",
        "print(a.lstrip())\n",
        "print(a.rstrip())\n",
        "print(a.strip())"
      ]
    },
    {
      "cell_type": "code",
      "execution_count": null,
      "metadata": {
        "colab": {
          "base_uri": "https://localhost:8080/"
        },
        "id": "0urAsfpsDK27",
        "outputId": "000c879f-00ee-4b84-f7df-15d808b0c9b7"
      },
      "outputs": [
        {
          "name": "stdout",
          "output_type": "stream",
          "text": [
            "False\n",
            "True\n",
            "False\n",
            "False\n",
            "False\n"
          ]
        }
      ],
      "source": [
        "#isspace\n",
        "a=\"python\"\n",
        "print(a.isspace())\n",
        "b=\" \"\n",
        "print(b.isspace())\n",
        "v=\"&\"\n",
        "print(v.isspace())\n",
        "s=\"2\"\n",
        "print(s.isspace())\n",
        "d=\"python is a user friendly langauge\"\n",
        "print(d.isspace())\n",
        "\n"
      ]
    },
    {
      "cell_type": "code",
      "execution_count": null,
      "metadata": {
        "colab": {
          "base_uri": "https://localhost:8080/"
        },
        "id": "m-vkhMv0EeQW",
        "outputId": "1d129e4f-e252-45bd-fbff-3d2a573cdc22"
      },
      "outputs": [
        {
          "name": "stdout",
          "output_type": "stream",
          "text": [
            "True\n",
            "True\n",
            "False\n",
            "True\n",
            "True\n"
          ]
        }
      ],
      "source": [
        "#isprintable\n",
        "a=\"python\"\n",
        "print(a.isprintable())\n",
        "b=\" \"\n",
        "print(b.isprintable())\n",
        "v=\"\\n&\"\n",
        "print(v.isprintable())\n",
        "s=\"2\"\n",
        "print(s.isprintable())\n",
        "d=\"python is a user friendly langauge\"\n",
        "print(d.isprintable())\n"
      ]
    },
    {
      "cell_type": "code",
      "execution_count": null,
      "metadata": {
        "colab": {
          "base_uri": "https://localhost:8080/"
        },
        "id": "U4bh75AKFH5Z",
        "outputId": "a352d8d6-ace3-413a-e26d-9562b53ee844"
      },
      "outputs": [
        {
          "name": "stdout",
          "output_type": "stream",
          "text": [
            "enter351\n",
            "python  java    c++\n",
            "java      154       JtAV\n",
            "@              #              $              m\n",
            "351\n",
            "10\n",
            "4\n",
            "0\n",
            "-1\n"
          ]
        }
      ],
      "source": [
        "#expandtabs\n",
        "a=\"python\\tjava\\tc++\"\n",
        "b=\"java\\t154\\tJtAV\"\n",
        "c=\"@\\t#\\t$\\tm\"\n",
        "d=input(\"enter\")\n",
        "print(a.expandtabs())\n",
        "print(b.expandtabs(10))\n",
        "print(c.expandtabs(15))\n",
        "print(d.expandtabs(15))\n",
        "#find\n",
        "a=\"basically python\"\n",
        "b=\"java154JAVA\"\n",
        "print(a.find(\"python\"))\n",
        "print(b.find(\"15\"))\n",
        "print(b.find(\"\"))           #if nothing in thw string then 0 wil print\n",
        "print(b.find(\"sai\"))        #if string not found then -1 will print"
      ]
    },
    {
      "cell_type": "code",
      "execution_count": null,
      "metadata": {
        "colab": {
          "base_uri": "https://localhost:8080/"
        },
        "id": "U38z5r3uFIN7",
        "outputId": "7f990ad8-747a-4fc4-dcf4-ebc9c9fbcfe9"
      },
      "outputs": [
        {
          "name": "stdout",
          "output_type": "stream",
          "text": [
            "4\n",
            "4\n",
            "11\n",
            "6\n",
            "-1\n",
            "10\n",
            "15\n",
            "15\n",
            "15\n",
            "14\n",
            "10\n",
            "1\n",
            "1\n",
            "0\n"
          ]
        }
      ],
      "source": [
        "#find\n",
        "a=\"python is good one\"\n",
        "print(a.find('o'))\n",
        "print(a.find('o',4))\n",
        "print(a.find('o',10))\n",
        "print(a.find(' ',1,16))\n",
        "print(a.find('z',13,16))\n",
        "print(a.find('g',0,20))\n",
        "#rfind rindex\n",
        "a=\"python is good one\"\n",
        "print(a.rfind('o'))\n",
        "print(a.rfind('o',4))\n",
        "print(a.rfind('o',10))\n",
        "print(a.rindex(' ',1,16))\n",
        "print(a.rindex('g',10,20))\n",
        "#count\n",
        "a=\"python is good one\"\n",
        "print(a.count('i'))\n",
        "print(a.count('o',0,5))\n",
        "print(a.count('t',10,25))"
      ]
    },
    {
      "cell_type": "code",
      "execution_count": null,
      "metadata": {
        "colab": {
          "base_uri": "https://localhost:8080/"
        },
        "id": "4tKd1EBwKO2H",
        "outputId": "82c280f7-22b1-4804-8576-08866fb3298f"
      },
      "outputs": [
        {
          "name": "stdout",
          "output_type": "stream",
          "text": [
            "['python', 'is', 'dynamic langauge']\n"
          ]
        }
      ],
      "source": [
        "#split\n",
        "a=\"python@is@dynamic langauge\"\n",
        "print(a.split(\"@\"))"
      ]
    },
    {
      "cell_type": "markdown",
      "metadata": {
        "id": "h3otHBF13X44"
      },
      "source": [
        "10/07/25"
      ]
    },
    {
      "cell_type": "code",
      "execution_count": null,
      "metadata": {
        "colab": {
          "base_uri": "https://localhost:8080/"
        },
        "id": "3itQoIFg3bnY",
        "outputId": "f1ef6077-fa3f-45c0-c6b1-116a310b2cf4"
      },
      "outputs": [
        {
          "name": "stdout",
          "output_type": "stream",
          "text": [
            "[10, 20.23, 'python', True, '123java', 'c', 'dsa', 'alpha', 'beta']\n",
            "('python', 'java', 1252)\n",
            "<class 'list'>\n",
            "[10, 20.23, 'python', True]\n",
            "[10, 20.23, 'python', True]\n",
            "['123java', 'c', 'dsa', 'alpha', 'beta']\n",
            "[20.23, True, 'c', 'alpha']\n",
            "['beta', 'alpha', 'dsa', 'c', '123java', True, 'python']\n",
            "['dsa', 'c', '123java']\n",
            "['beta', 'alpha', 'dsa', 'c', '123java', True, 'python', 20.23, 10]\n",
            "['beta', 'alpha', 'dsa', 'c']\n",
            "['123java', True, 'python', 20.23, 10]\n",
            "enter the guess stringTrue\n",
            "no\n",
            "[10, 20.23, 'python', True, '123java', 'c', 'dsa', 'alpha', 'beta']\n",
            "[10, 63, 'python', True, '123java', 'c', 'dsa', 'alpha', 'beta']\n",
            "[123, 50.5, '123java', 'c', 'dsa', 'alpha', 'beta']\n"
          ]
        }
      ],
      "source": [
        "#lists\n",
        "l=[10,20.23,\"python\",True,\"123java\",\"c\",\"dsa\",\"alpha\",\"beta\"]\n",
        "print(l)\n",
        "l1=((\"python\",\"java\",1252))\n",
        "print(l1)\n",
        "print(type(l))\n",
        "print(l[0:4])     #prints first four\n",
        "print(l[:4])      #prints first four\n",
        "print(l[4:])      #prints from 5 to end\n",
        "print(l[1:8:2])   #on incrementing of 2\n",
        "print(l[-1:1:-1]) #printing reverse\n",
        "print(l[-3:3:-1])\n",
        "print(l[::-1])\n",
        "print(l[:4:-1])\n",
        "print(l[4::-1])\n",
        "x=input(\"enter the guess string\")\n",
        "if x in l:\n",
        "  print(\"yes\")\n",
        "sssssssssselse:\n",
        "  print(\"no\")\n",
        "print(l)\n",
        "l[1]=63           #replace the place\n",
        "print(l)\n",
        "l[0:4]=[123,50.5]\n",
        "print(l)\n",
        "l[1:2]=[12,15,\"sai\"]"
      ]
    },
    {
      "cell_type": "code",
      "execution_count": null,
      "metadata": {
        "colab": {
          "base_uri": "https://localhost:8080/"
        },
        "id": "LTcqOJ2k9pdZ",
        "outputId": "256f61d1-e668-4f16-d125-6aaa794e7e0e"
      },
      "outputs": [
        {
          "name": "stdout",
          "output_type": "stream",
          "text": [
            "[10, 2145.2, 'naga', 54, 68, 236, True, 'python', 'java']\n",
            "[10, 15, 236, True, 'python', 'java']\n"
          ]
        }
      ],
      "source": [
        "a=[10,20.23,True,\"python\",\"java\"]\n",
        "a[1:2:1]=[2145.2,\"naga\",54,68,236]\n",
        "print(a)\n",
        "a[1:5]=[15]\n",
        "print(a)"
      ]
    },
    {
      "cell_type": "code",
      "execution_count": null,
      "metadata": {
        "colab": {
          "base_uri": "https://localhost:8080/"
        },
        "id": "acGDEiTG-9Pp",
        "outputId": "40034078-0e4b-4731-e71c-39ba16f744a3"
      },
      "outputs": [
        {
          "name": "stdout",
          "output_type": "stream",
          "text": [
            "[10, 20.23, 'sai', True, 'python', 'java']\n",
            "[10, 20.23, 'sai', True, 'python', 'java', 'apple']\n",
            "[10, 20.23, 'sai', True, 'python', 'java', 'apple', 'python', 'java', 1252]\n"
          ]
        }
      ],
      "source": [
        "b=[10,20.23,True,\"python\",\"java\"]\n",
        "b.insert(2,\"sai\")\n",
        "print(b)\n",
        "b.append(\"apple\")\n",
        "print(b)\n",
        "l1=((\"python\",\"java\",1252))\n",
        "b.extend(l1)\n",
        "print(b)"
      ]
    },
    {
      "cell_type": "markdown",
      "metadata": {
        "id": "a85AnzIGFJgE"
      },
      "source": [
        "class"
      ]
    },
    {
      "cell_type": "code",
      "execution_count": null,
      "metadata": {
        "colab": {
          "base_uri": "https://localhost:8080/"
        },
        "id": "RJmgryu2E3Z_",
        "outputId": "53d65010-47aa-4e1a-a88a-1f50c41bd3c1"
      },
      "outputs": [
        {
          "name": "stdout",
          "output_type": "stream",
          "text": [
            "[12, 15, 14, 18, 14, 63, 13]\n",
            "[12, 15, 14, 18, 14, 63, 13]\n",
            "[]\n",
            "[15, 13]\n",
            "[12, 13]\n",
            "[63]\n",
            "[13]\n",
            "[13, 63, 14, 18, 14, 15, 12]\n",
            "[13, 14, 14]\n",
            "[13, 14, 14]\n",
            "[13]\n"
          ]
        }
      ],
      "source": [
        "l=[12,15,14,18,14,63,13]\n",
        "print(l)\n",
        "print(l[:])         #all will print\n",
        "print(l[1:5:-1])    #[]  #here starting value must be maximun when we are decrementing\n",
        "print(l[1::5])      #[15,13]\n",
        "print(l[0::6])      #[12,13]\n",
        "print(l[5::9])      #[63]\n",
        "print(l[6::11])     #[13]\n",
        "print(l[::-1])      #[reverse]\n",
        "print(l[7:0:-2])    #[13,14,14]\n",
        "print(l[7:1:-2])    #[13,14,14]\n",
        "print(l[8:5:-1])    #[13]\n",
        "\n"
      ]
    },
    {
      "cell_type": "code",
      "execution_count": null,
      "metadata": {
        "colab": {
          "base_uri": "https://localhost:8080/"
        },
        "id": "6CUOOsZmE3go",
        "outputId": "9795edeb-924b-443f-bae9-a7ca0a6a97a2"
      },
      "outputs": [
        {
          "name": "stdout",
          "output_type": "stream",
          "text": [
            "[]\n",
            "[7, 2, 6]\n",
            "[7, 3, 2, 4, 6]\n",
            "[1, 5, 7, 3]\n",
            "[3, 2, 4, 6, 10, 11]\n",
            "6\n"
          ]
        }
      ],
      "source": [
        "#  0,1,2,3,4,5,6,7,8\n",
        "l=[1,5,7,3,2,4,6,10,11]\n",
        "print(l[7:1:3])     #[]\n",
        "print(l[2:7:2])     #[7,2,6]\n",
        "print(l[2:7])       #[7,3,2,4,6]\n",
        "print(l[:4])        #[1,5,7,3]\n",
        "print(l[3:])        #[3,2,4,6,110,11]\n",
        "print(l[6])"
      ]
    },
    {
      "cell_type": "code",
      "execution_count": null,
      "metadata": {
        "colab": {
          "base_uri": "https://localhost:8080/"
        },
        "id": "xhdnQCh-E3j1",
        "outputId": "360e5478-b103-4e3d-a5ae-88ca7b7bdd8b"
      },
      "outputs": [
        {
          "name": "stdout",
          "output_type": "stream",
          "text": [
            "[1, 2, 3, 'hello', 5, 6, ['python']]\n",
            "['python']\n",
            "2\n",
            "6\n",
            "python\n",
            "['python']\n",
            "python\n",
            "n\n"
          ]
        }
      ],
      "source": [
        "\n",
        "-+#  0 1 2   3\n",
        "a=[1,2,3,\"hello\",5,6,[\"python\"]]\n",
        "print(a)\n",
        "print(a[6])\n",
        "print(a[-6])\n",
        "print(a[-2])\n",
        "print(a[6][0])\n",
        "print(a[-1])\n",
        "print(a[-1][-1])\n",
        "print(a[-1][-1][-1])\n",
        "#append\n",
        "#extend\n",
        "#insert\n",
        "#remove\n",
        "#clear\n",
        "#index\n"
      ]
    },
    {
      "cell_type": "markdown",
      "metadata": {
        "id": "swaSUUFcyxxV"
      },
      "source": [
        "15/7/25"
      ]
    },
    {
      "cell_type": "code",
      "execution_count": null,
      "metadata": {
        "colab": {
          "base_uri": "https://localhost:8080/",
          "height": 236
        },
        "id": "i_tCF_klzjX2",
        "outputId": "fa53c1cc-df42-4f94-d162-8209dcf34592"
      },
      "outputs": [
        {
          "name": "stdout",
          "output_type": "stream",
          "text": [
            "enter the number123\n"
          ]
        },
        {
          "ename": "KeyboardInterrupt",
          "evalue": "",
          "output_type": "error",
          "traceback": [
            "\u001b[0;31m---------------------------------------------------------------------------\u001b[0m",
            "\u001b[0;31mKeyboardInterrupt\u001b[0m                         Traceback (most recent call last)",
            "\u001b[0;32m/tmp/ipython-input-9-52675299.py\u001b[0m in \u001b[0;36m<cell line: 0>\u001b[0;34m()\u001b[0m\n\u001b[1;32m      3\u001b[0m \u001b[0msum\u001b[0m\u001b[0;34m=\u001b[0m\u001b[0;36m0\u001b[0m\u001b[0;34m\u001b[0m\u001b[0;34m\u001b[0m\u001b[0m\n\u001b[1;32m      4\u001b[0m \u001b[0mb\u001b[0m\u001b[0;34m=\u001b[0m\u001b[0mlen\u001b[0m\u001b[0;34m(\u001b[0m\u001b[0mstr\u001b[0m\u001b[0;34m(\u001b[0m\u001b[0mx\u001b[0m\u001b[0;34m)\u001b[0m\u001b[0;34m)\u001b[0m\u001b[0;34m\u001b[0m\u001b[0;34m\u001b[0m\u001b[0m\n\u001b[0;32m----> 5\u001b[0;31m \u001b[0;32mwhile\u001b[0m \u001b[0mx\u001b[0m\u001b[0;34m!=\u001b[0m\u001b[0;36m0\u001b[0m\u001b[0;34m:\u001b[0m\u001b[0;34m\u001b[0m\u001b[0;34m\u001b[0m\u001b[0m\n\u001b[0m\u001b[1;32m      6\u001b[0m   \u001b[0mc\u001b[0m\u001b[0;34m=\u001b[0m\u001b[0mi\u001b[0m\u001b[0;34m%\u001b[0m\u001b[0;36m10\u001b[0m\u001b[0;34m\u001b[0m\u001b[0;34m\u001b[0m\u001b[0m\n\u001b[1;32m      7\u001b[0m   \u001b[0msum\u001b[0m\u001b[0;34m=\u001b[0m\u001b[0msum\u001b[0m\u001b[0;34m+\u001b[0m\u001b[0mc\u001b[0m\u001b[0;34m**\u001b[0m\u001b[0mb\u001b[0m\u001b[0;34m\u001b[0m\u001b[0;34m\u001b[0m\u001b[0m\n",
            "\u001b[0;31mKeyboardInterrupt\u001b[0m: "
          ]
        }
      ],
      "source": [
        "x=int(input(\"enter the number\"))\n",
        "a=x\n",
        "sum=0\n",
        "b=len(str(x))\n",
        "while x!=0:\n",
        "  c=i%10\n",
        "  sum=sum+c**b\n",
        "  i=i//10\n",
        "if sum==a:\n",
        "  print(a,\"is armstrong\")\n",
        "else:\n",
        "  print(a,\"is not armstrong\")"
      ]
    },
    {
      "cell_type": "code",
      "execution_count": null,
      "metadata": {
        "colab": {
          "base_uri": "https://localhost:8080/"
        },
        "id": "-tjNelR-xZBk",
        "outputId": "5e6b1d56-4a0a-49c8-9812-e7b61995bf8b"
      },
      "outputs": [
        {
          "name": "stdout",
          "output_type": "stream",
          "text": [
            "enter the number8\n",
            "8 is armstrong\n"
          ]
        }
      ],
      "source": [
        "x=int(input(\"enter the number\"))\n",
        "a=x\n",
        "sum=0\n",
        "b=len(str(x))\n",
        "while x!=0:\n",
        "  d=x%10\n",
        "  sum=sum+d**b\n",
        "  x=x//10\n",
        "if sum==a:\n",
        "  print(a,\"is armstrong\")\n",
        "else:\n",
        "  print(a,\"is not armstrong\")\n"
      ]
    },
    {
      "cell_type": "code",
      "execution_count": null,
      "metadata": {
        "colab": {
          "base_uri": "https://localhost:8080/"
        },
        "id": "woHfmLb2zpxH",
        "outputId": "8f426034-22f5-45fe-9064-d412fb9c9d32"
      },
      "outputs": [
        {
          "name": "stdout",
          "output_type": "stream",
          "text": [
            "enter the number10\n",
            "0\n",
            "1\n",
            "2\n",
            "3\n",
            "4\n",
            "5\n",
            "6\n",
            "7\n",
            "8\n",
            "9\n"
          ]
        }
      ],
      "source": [
        "x=int(input(\"enter the number\"))\n",
        "for i in range(x):\n",
        "  a=i\n",
        "  sum=0\n",
        "  b=len(str(i))\n",
        "  while i!=0:\n",
        "    d=i%10\n",
        "    sum=sum+d**b\n",
        "    i=i//10\n",
        "  if sum==a:\n",
        "   print(sum)\n",
        "\n",
        "\n"
      ]
    },
    {
      "cell_type": "markdown",
      "metadata": {
        "id": "MreFcHKp8zQ8"
      },
      "source": [
        "16/07/25"
      ]
    },
    {
      "cell_type": "code",
      "execution_count": null,
      "metadata": {
        "colab": {
          "base_uri": "https://localhost:8080/"
        },
        "id": "cUl_A4zst4Zs",
        "outputId": "50a56be3-ac87-44a5-9892-26b813340a13"
      },
      "outputs": [
        {
          "name": "stdout",
          "output_type": "stream",
          "text": [
            "<list_iterator object at 0x7c3a0a192bf0>\n",
            "1\n",
            "2\n",
            "3\n",
            "4\n",
            "1\n",
            "2\n",
            "3\n",
            "4\n",
            "4\n"
          ]
        }
      ],
      "source": [
        "#magical methods __iter__(),__next__()\n",
        "\n",
        "list=[1,2,3,4]\n",
        "x=iter(list)\n",
        "print(x)\n",
        "print(next(x))\n",
        "print(next(x))\n",
        "print(next(x))\n",
        "print(next(x))\n",
        "for i in list:\n",
        "  print(i)\n",
        "print(i)\n"
      ]
    },
    {
      "cell_type": "code",
      "execution_count": null,
      "metadata": {
        "colab": {
          "base_uri": "https://localhost:8080/"
        },
        "id": "gbqIVuEgBBMU",
        "outputId": "fa2053ef-8e6b-4fcd-8e8e-f76641b16e41"
      },
      "outputs": [
        {
          "name": "stdout",
          "output_type": "stream",
          "text": [
            "<list_iterator object at 0x7c39cfdb6950>\n",
            "1\n"
          ]
        }
      ],
      "source": [
        "list=[1,2,5,4,8,6]\n",
        "x=list.__iter__()\n",
        "print(x)\n",
        "print(next(x))\n",
        "\n",
        "# iterators enclosere yeild return decorators namespaces or variables legt(local encloser global  buildin)"
      ]
    },
    {
      "cell_type": "code",
      "execution_count": null,
      "metadata": {
        "colab": {
          "background_save": true
        },
        "id": "8vp7G1DQDTJT",
        "outputId": "790b4d60-5894-4d24-e77a-bae76045b9f5"
      },
      "outputs": [
        {
          "name": "stdout",
          "output_type": "stream",
          "text": [
            "153 is a armstrong\n"
          ]
        }
      ],
      "source": [
        "x=int(input(\"enter the number\"))\n",
        "x=a\n",
        "sum=0\n",
        "b=len(str(x))\n",
        "while x!=0:\n",
        "  d=x%10\n",
        "  sum=sum+d**b\n",
        "  x=x//10\n",
        "if sum==a:\n",
        "  print(sum,\"is a armstrong\")\n",
        "else:\n",
        "  print(sum,\"is not a armstrong\")"
      ]
    },
    {
      "cell_type": "markdown",
      "metadata": {
        "id": "7MbwcMXQIJRu"
      },
      "source": [
        "17/07/25"
      ]
    },
    {
      "cell_type": "code",
      "execution_count": null,
      "metadata": {
        "colab": {
          "base_uri": "https://localhost:8080/"
        },
        "id": "sXbfiNKmILBm",
        "outputId": "e3cbc83e-a092-4ff7-9a27-862904e5d1dd"
      },
      "outputs": [
        {
          "name": "stdout",
          "output_type": "stream",
          "text": [
            "welcome to banking\n",
            "thank you\n"
          ]
        }
      ],
      "source": [
        "#python modules\n",
        "#every .py file is a module,\n",
        "def wish():\n",
        "  print(\"welcome to banking\")\n",
        "  print(\"thank you\")\n",
        "wish()"
      ]
    },
    {
      "cell_type": "code",
      "execution_count": null,
      "metadata": {
        "id": "Z7V0fFy0J0EZ"
      },
      "outputs": [],
      "source": [
        "'''how many number of extentions does python support\n",
        "Python supports several types of file extensions, primarily:\n",
        "\n",
        ".py: This is the most common extension for standard Python scripts.\n",
        ".pyc: These are compiled bytecode files. Python creates these to speed up execution of scripts.\n",
        ".pyo: These are optimized compiled bytecode files (less common in modern Python).\n",
        ".pyd: On Windows, this is a dynamically loadable module (similar to a .dll).\n",
        ".ipynb: This is the file extension for Jupyter Notebooks (which are widely used with Python).'''"
      ]
    },
    {
      "cell_type": "code",
      "execution_count": null,
      "metadata": {
        "colab": {
          "base_uri": "https://localhost:8080/"
        },
        "id": "SoGkQhYUJ0OX",
        "outputId": "e853ae92-499e-4094-d428-19d98e595e92"
      },
      "outputs": [
        {
          "name": "stdout",
          "output_type": "stream",
          "text": [
            "9658\n",
            "-45\n",
            "101\n",
            "101\n",
            "11.180339887498949\n",
            "-46\n",
            "100\n",
            "100\n",
            "100.01\n",
            "120\n",
            "15.7\n",
            "15.7\n",
            "15.7\n",
            "16.0\n",
            "10.23\n",
            "3.1622776601683795\n",
            "34\n",
            "74\n",
            "3\n",
            "2\n",
            "None\n",
            "[2, 1, 32, 8, 6, 3, 8, 5, 9, 2, 100]\n",
            "[32, 5, 2]\n",
            "[5]\n",
            "[8, 6, 8, 100, 3]\n"
          ]
        }
      ],
      "source": [
        "import math\n",
        "dir(math)\n",
        "print(abs(-9658))               #abs used for always positive\n",
        "dir(math)\n",
        "print(math.ceil(-45.25))        #ceil is used for forward value\n",
        "print(math.ceil(100.12))\n",
        "print(math.ceil(100.72))\n",
        "print(math.sqrt(125))\n",
        "print(math.floor(-45.17))\n",
        "print(math.floor(100.25))\n",
        "print(math.floor(100.75))\n",
        "print(math.fabs(-100.01))\n",
        "print(math.factorial(5))\n",
        "print(math.fsum([5.7,8,2]))\n",
        "print(math.fsum((5.7,8,2)))\n",
        "print(math.fsum({5.7,8,2}))\n",
        "print(math.pow(2,4))\n",
        "print(round(10.234,2))\n",
        "print(math.sqrt(10))\n",
        "import random\n",
        "print(random.randint(1,100))\n",
        "print(random.randrange(1,100))\n",
        "print(random.choice([1,2,3,4,5,6,7,8,9]))\n",
        "x=[1,5,2,6,8,100,32,3,9,8,2,]\n",
        "print(random.choice(x))\n",
        "print(random.shuffle(x))\n",
        "print(x)\n",
        "print(random.sample(x,3))\n",
        "print(random.sample(x,1))\n",
        "print(random.sample(x,5))\n"
      ]
    },
    {
      "cell_type": "code",
      "execution_count": null,
      "metadata": {
        "colab": {
          "base_uri": "https://localhost:8080/"
        },
        "id": "QCWziGnNJ0RE",
        "outputId": "8539602d-2d0f-469b-9b95-8d989698960b"
      },
      "outputs": [
        {
          "name": "stdout",
          "output_type": "stream",
          "text": [
            "66\n"
          ]
        }
      ],
      "source": [
        "import operator\n",
        "a=23\n",
        "b=43\n",
        "print(operator.add(a,b))\n",
        "#module,package,functions"
      ]
    },
    {
      "cell_type": "code",
      "execution_count": null,
      "metadata": {
        "id": "OtFYmAVsJ0Ug"
      },
      "outputs": [],
      "source": [
        "import string\n",
        "#string.ascii_letters,ascii_lower,ascii_upper,"
      ]
    },
    {
      "cell_type": "code",
      "execution_count": null,
      "metadata": {
        "id": "OOje85KSRwIZ"
      },
      "outputs": [],
      "source": [
        "#package modele structure\n",
        "#modularity---high degree of code reusability\n",
        "#math random decimal string\n",
        "#package  __init__"
      ]
    },
    {
      "cell_type": "markdown",
      "metadata": {
        "id": "Y-AswKNISVz8"
      },
      "source": [
        "18/07/25\n"
      ]
    },
    {
      "cell_type": "code",
      "execution_count": null,
      "metadata": {
        "id": "bcptu8DdScoI"
      },
      "outputs": [],
      "source": [
        "#modules date, time ,timedata"
      ]
    },
    {
      "cell_type": "code",
      "execution_count": null,
      "metadata": {
        "colab": {
          "base_uri": "https://localhost:8080/"
        },
        "id": "yhMBp0joTLGz",
        "outputId": "12b53309-4ec6-44a3-d083-df6b82e6174f"
      },
      "outputs": [
        {
          "name": "stdout",
          "output_type": "stream",
          "text": [
            "enter the two digit number333\n",
            "<class 'str'>\n",
            "9\n"
          ]
        }
      ],
      "source": [
        "a=input(\"enter the two digit number\")\n",
        "print(type(a))\n",
        "sum=int(a[0])+int(a[1])+int(a[2])\n",
        "print(sum)\n"
      ]
    },
    {
      "cell_type": "code",
      "execution_count": null,
      "metadata": {
        "colab": {
          "base_uri": "https://localhost:8080/"
        },
        "id": "CHylkBtPCliT",
        "outputId": "6aa2805e-899d-424e-f2c3-f0e74d31e3b5"
      },
      "outputs": [
        {
          "data": {
            "text/plain": [
              "['False',\n",
              " 'None',\n",
              " 'True',\n",
              " 'and',\n",
              " 'as',\n",
              " 'assert',\n",
              " 'async',\n",
              " 'await',\n",
              " 'break',\n",
              " 'class',\n",
              " 'continue',\n",
              " 'def',\n",
              " 'del',\n",
              " 'elif',\n",
              " 'else',\n",
              " 'except',\n",
              " 'finally',\n",
              " 'for',\n",
              " 'from',\n",
              " 'global',\n",
              " 'if',\n",
              " 'import',\n",
              " 'in',\n",
              " 'is',\n",
              " 'lambda',\n",
              " 'nonlocal',\n",
              " 'not',\n",
              " 'or',\n",
              " 'pass',\n",
              " 'raise',\n",
              " 'return',\n",
              " 'try',\n",
              " 'while',\n",
              " 'with',\n",
              " 'yield']"
            ]
          },
          "execution_count": 1,
          "metadata": {},
          "output_type": "execute_result"
        }
      ],
      "source": [
        "import keyword\n",
        "keyword.kwlist\n"
      ]
    },
    {
      "cell_type": "code",
      "execution_count": null,
      "metadata": {
        "colab": {
          "base_uri": "https://localhost:8080/"
        },
        "id": "QTosr9vuR7--",
        "outputId": "9a66a7f1-5ba6-4f5c-83cf-a3a08402a5e5"
      },
      "outputs": [
        {
          "name": "stdout",
          "output_type": "stream",
          "text": [
            "['__annotations__', '__doc__', '__loader__', '__name__', '__package__', '__spec__', 'acos', 'acosh', 'asin', 'asinh', 'atan', 'atan2', 'atanh', 'cbrt', 'ceil', 'comb', 'copysign', 'cos', 'cosh', 'degrees', 'dist', 'e', 'erf', 'erfc', 'exp', 'exp2', 'expm1', 'fabs', 'factorial', 'floor', 'fmod', 'frexp', 'fsum', 'gamma', 'gcd', 'hypot', 'inf', 'isclose', 'isfinite', 'isinf', 'isnan', 'isqrt', 'lcm', 'ldexp', 'lgamma', 'log', 'log10', 'log1p', 'log2', 'modf', 'nan', 'nextafter', 'perm', 'pi', 'pow', 'prod', 'radians', 'remainder', 'sin', 'sinh', 'sqrt', 'tan', 'tanh', 'tau', 'trunc', 'ulp']\n",
            "Help on built-in function acos in module math:\n",
            "\n",
            "acos(x, /)\n",
            "    Return the arc cosine (measured in radians) of x.\n",
            "    \n",
            "    The result is between 0 and pi.\n",
            "\n"
          ]
        }
      ],
      "source": [
        "import math\n",
        "print(dir(math))\n",
        "help(math.acos)\n"
      ]
    },
    {
      "cell_type": "markdown",
      "metadata": {
        "id": "xfOnqKzmuYBB"
      },
      "source": [
        "21/07/25"
      ]
    },
    {
      "cell_type": "code",
      "execution_count": null,
      "metadata": {
        "colab": {
          "base_uri": "https://localhost:8080/"
        },
        "id": "tQP8be2Quarm",
        "outputId": "a92f2943-2e87-4e1e-a95e-bac28070c218"
      },
      "outputs": [
        {
          "name": "stdout",
          "output_type": "stream",
          "text": [
            "enter the number852\n",
            "enter the number3\n",
            "division  284.0\n"
          ]
        }
      ],
      "source": [
        "x=int(input(\"enter the number\"))\n",
        "y=int(input(\"enter the number\"))        #division always float\n",
        "print(\"division \",(x/y))"
      ]
    },
    {
      "cell_type": "code",
      "execution_count": null,
      "metadata": {
        "colab": {
          "base_uri": "https://localhost:8080/",
          "height": 218
        },
        "id": "-3u4_opOzFd7",
        "outputId": "db913088-8a45-4dd1-adec-08e8ed51082e"
      },
      "outputs": [
        {
          "name": "stdout",
          "output_type": "stream",
          "text": [
            "enter the number31\n",
            "enter the number546\n"
          ]
        },
        {
          "ename": "TypeError",
          "evalue": "unsupported operand type(s) for /: 'str' and 'str'",
          "output_type": "error",
          "traceback": [
            "\u001b[0;31m---------------------------------------------------------------------------\u001b[0m",
            "\u001b[0;31mTypeError\u001b[0m                                 Traceback (most recent call last)",
            "\u001b[0;32m/tmp/ipython-input-11-2992029660.py\u001b[0m in \u001b[0;36m<cell line: 0>\u001b[0;34m()\u001b[0m\n\u001b[1;32m      1\u001b[0m \u001b[0mx\u001b[0m\u001b[0;34m=\u001b[0m\u001b[0minput\u001b[0m\u001b[0;34m(\u001b[0m\u001b[0;34m\"enter the number\"\u001b[0m\u001b[0;34m)\u001b[0m\u001b[0;34m\u001b[0m\u001b[0;34m\u001b[0m\u001b[0m\n\u001b[1;32m      2\u001b[0m \u001b[0my\u001b[0m\u001b[0;34m=\u001b[0m\u001b[0minput\u001b[0m\u001b[0;34m(\u001b[0m\u001b[0;34m\"enter the number\"\u001b[0m\u001b[0;34m)\u001b[0m       \u001b[0;31m#division always float\u001b[0m\u001b[0;34m\u001b[0m\u001b[0;34m\u001b[0m\u001b[0m\n\u001b[0;32m----> 3\u001b[0;31m \u001b[0mprint\u001b[0m\u001b[0;34m(\u001b[0m\u001b[0;34m\"division \"\u001b[0m\u001b[0;34m,\u001b[0m\u001b[0;34m(\u001b[0m\u001b[0mx\u001b[0m\u001b[0;34m/\u001b[0m\u001b[0my\u001b[0m\u001b[0;34m)\u001b[0m\u001b[0;34m)\u001b[0m\u001b[0;34m\u001b[0m\u001b[0;34m\u001b[0m\u001b[0m\n\u001b[0m",
            "\u001b[0;31mTypeError\u001b[0m: unsupported operand type(s) for /: 'str' and 'str'"
          ]
        }
      ],
      "source": [
        "x=input(\"enter the number\")\n",
        "y=input(\"enter the number\")\n",
        "print(\"division \",(x/y))            #we give string but we cannot do mathematical operations on strings so we get type error"
      ]
    },
    {
      "cell_type": "code",
      "execution_count": null,
      "metadata": {
        "colab": {
          "base_uri": "https://localhost:8080/",
          "height": 218
        },
        "id": "kJN55awEzFk6",
        "outputId": "229fe9aa-a938-4802-a4fa-f2aac1ac8d2d"
      },
      "outputs": [
        {
          "name": "stdout",
          "output_type": "stream",
          "text": [
            "enter the number51\n",
            "enter the number51\n"
          ]
        },
        {
          "ename": "NameError",
          "evalue": "name 'a' is not defined",
          "output_type": "error",
          "traceback": [
            "\u001b[0;31m---------------------------------------------------------------------------\u001b[0m",
            "\u001b[0;31mNameError\u001b[0m                                 Traceback (most recent call last)",
            "\u001b[0;32m/tmp/ipython-input-10-181117412.py\u001b[0m in \u001b[0;36m<cell line: 0>\u001b[0;34m()\u001b[0m\n\u001b[1;32m      2\u001b[0m \u001b[0my\u001b[0m\u001b[0;34m=\u001b[0m\u001b[0mint\u001b[0m\u001b[0;34m(\u001b[0m\u001b[0minput\u001b[0m\u001b[0;34m(\u001b[0m\u001b[0;34m\"enter the number\"\u001b[0m\u001b[0;34m)\u001b[0m\u001b[0;34m)\u001b[0m\u001b[0;34m\u001b[0m\u001b[0;34m\u001b[0m\u001b[0m\n\u001b[1;32m      3\u001b[0m \u001b[0mz\u001b[0m\u001b[0;34m=\u001b[0m\u001b[0mx\u001b[0m\u001b[0;34m=\u001b[0m\u001b[0my\u001b[0m\u001b[0;34m\u001b[0m\u001b[0;34m\u001b[0m\u001b[0m\n\u001b[0;32m----> 4\u001b[0;31m \u001b[0mprint\u001b[0m\u001b[0;34m(\u001b[0m\u001b[0ma\u001b[0m\u001b[0;34m)\u001b[0m\u001b[0;34m\u001b[0m\u001b[0;34m\u001b[0m\u001b[0m\n\u001b[0m",
            "\u001b[0;31mNameError\u001b[0m: name 'a' is not defined"
          ]
        }
      ],
      "source": [
        "x=int(input(\"enter the number\"))\n",
        "y=int(input(\"enter the number\"))\n",
        "z=x=y                             #we do not declare the a so we get name error\n",
        "print(a)"
      ]
    },
    {
      "cell_type": "code",
      "execution_count": null,
      "metadata": {
        "colab": {
          "base_uri": "https://localhost:8080/",
          "height": 164
        },
        "id": "__ZIr2cv4rQ_",
        "outputId": "2c4d1f5a-182a-4503-dd51-075d9143ebfe"
      },
      "outputs": [
        {
          "ename": "KeyError",
          "evalue": "104",
          "output_type": "error",
          "traceback": [
            "\u001b[0;31m---------------------------------------------------------------------------\u001b[0m",
            "\u001b[0;31mKeyError\u001b[0m                                  Traceback (most recent call last)",
            "\u001b[0;32m/tmp/ipython-input-25-2390580244.py\u001b[0m in \u001b[0;36m<cell line: 0>\u001b[0;34m()\u001b[0m\n\u001b[1;32m      1\u001b[0m \u001b[0mdict\u001b[0m\u001b[0;34m=\u001b[0m\u001b[0;34m{\u001b[0m\u001b[0;36m101\u001b[0m\u001b[0;34m:\u001b[0m\u001b[0;34m\"sai\"\u001b[0m\u001b[0;34m,\u001b[0m\u001b[0;36m102\u001b[0m\u001b[0;34m:\u001b[0m\u001b[0;34m\"naga\"\u001b[0m\u001b[0;34m}\u001b[0m\u001b[0;34m\u001b[0m\u001b[0;34m\u001b[0m\u001b[0m\n\u001b[0;32m----> 2\u001b[0;31m \u001b[0mprint\u001b[0m\u001b[0;34m(\u001b[0m\u001b[0mdict\u001b[0m\u001b[0;34m[\u001b[0m\u001b[0;36m104\u001b[0m\u001b[0;34m]\u001b[0m\u001b[0;34m)\u001b[0m\u001b[0;34m\u001b[0m\u001b[0;34m\u001b[0m\u001b[0m\n\u001b[0m",
            "\u001b[0;31mKeyError\u001b[0m: 104"
          ]
        }
      ],
      "source": [
        "dict={101:\"sai\",102:\"naga\"}\n",
        "print(dict[104])"
      ]
    },
    {
      "cell_type": "code",
      "execution_count": null,
      "metadata": {
        "colab": {
          "base_uri": "https://localhost:8080/",
          "height": 164
        },
        "id": "n6Sm-zZX2_On",
        "outputId": "a4400b17-53f8-4148-a6e6-fdf6d95b4fd1"
      },
      "outputs": [
        {
          "ename": "IndexError",
          "evalue": "list index out of range",
          "output_type": "error",
          "traceback": [
            "\u001b[0;31m---------------------------------------------------------------------------\u001b[0m",
            "\u001b[0;31mIndexError\u001b[0m                                Traceback (most recent call last)",
            "\u001b[0;32m/tmp/ipython-input-16-944161593.py\u001b[0m in \u001b[0;36m<cell line: 0>\u001b[0;34m()\u001b[0m\n\u001b[1;32m      1\u001b[0m \u001b[0ml\u001b[0m\u001b[0;34m=\u001b[0m\u001b[0;34m[\u001b[0m\u001b[0;36m0\u001b[0m\u001b[0;34m,\u001b[0m\u001b[0;36m1\u001b[0m\u001b[0;34m,\u001b[0m\u001b[0;36m2\u001b[0m\u001b[0;34m,\u001b[0m\u001b[0;36m5\u001b[0m\u001b[0;34m,\u001b[0m\u001b[0;36m4\u001b[0m\u001b[0;34m,\u001b[0m\u001b[0;36m7\u001b[0m\u001b[0;34m]\u001b[0m\u001b[0;34m\u001b[0m\u001b[0;34m\u001b[0m\u001b[0m\n\u001b[0;32m----> 2\u001b[0;31m \u001b[0mprint\u001b[0m\u001b[0;34m(\u001b[0m\u001b[0ml\u001b[0m\u001b[0;34m[\u001b[0m\u001b[0;36m9\u001b[0m\u001b[0;34m]\u001b[0m\u001b[0;34m)\u001b[0m\u001b[0;34m\u001b[0m\u001b[0;34m\u001b[0m\u001b[0m\n\u001b[0m",
            "\u001b[0;31mIndexError\u001b[0m: list index out of range"
          ]
        }
      ],
      "source": [
        "l=[0,1,2,5,4,7]\n",
        "print(l[9])"
      ]
    },
    {
      "cell_type": "code",
      "execution_count": null,
      "metadata": {
        "colab": {
          "base_uri": "https://localhost:8080/",
          "height": 164
        },
        "id": "JkOzSydh5TbF",
        "outputId": "8edc8ee3-59c1-46a8-fedc-3681a7ac78df"
      },
      "outputs": [
        {
          "ename": "AttributeError",
          "evalue": "'dict' object has no attribute 'add'",
          "output_type": "error",
          "traceback": [
            "\u001b[0;31m---------------------------------------------------------------------------\u001b[0m",
            "\u001b[0;31mAttributeError\u001b[0m                            Traceback (most recent call last)",
            "\u001b[0;32m/tmp/ipython-input-28-2422154241.py\u001b[0m in \u001b[0;36m<cell line: 0>\u001b[0;34m()\u001b[0m\n\u001b[1;32m      1\u001b[0m \u001b[0ma\u001b[0m\u001b[0;34m=\u001b[0m\u001b[0;34m{\u001b[0m\u001b[0;34m}\u001b[0m\u001b[0;34m\u001b[0m\u001b[0;34m\u001b[0m\u001b[0m\n\u001b[0;32m----> 2\u001b[0;31m \u001b[0ma\u001b[0m\u001b[0;34m.\u001b[0m\u001b[0madd\u001b[0m\u001b[0;34m(\u001b[0m\u001b[0;34m)\u001b[0m\u001b[0;34m\u001b[0m\u001b[0;34m\u001b[0m\u001b[0m\n\u001b[0m",
            "\u001b[0;31mAttributeError\u001b[0m: 'dict' object has no attribute 'add'"
          ]
        }
      ],
      "source": [
        "a={}\n",
        "a.add()"
      ]
    },
    {
      "cell_type": "code",
      "execution_count": null,
      "metadata": {
        "id": "vomolLP85c9B"
      },
      "outputs": [],
      "source": [
        "#NameError: name 'a' is not defined\n",
        "#TypeError: unsupported operand type(s) for /: 'str' and 'str'\n",
        "#KeyError: 104 not in the dictionary\n",
        "#AttributeError: 'dict' object has no attribute 'add'\n",
        "#IndexError: list index out of range\n",
        "# try except else finally raise"
      ]
    },
    {
      "cell_type": "code",
      "execution_count": null,
      "metadata": {
        "colab": {
          "base_uri": "https://localhost:8080/"
        },
        "id": "lVpKqrwN8ypW",
        "outputId": "df85c7a9-6fce-4e67-9b15-fa474d765b78"
      },
      "outputs": [
        {
          "name": "stdout",
          "output_type": "stream",
          "text": [
            "sai\n"
          ]
        }
      ],
      "source": [
        "#study about errors and ways to rectify error\n",
        "\n",
        "'''case sensitive mistake\n",
        "my_Name=\"sai\"\n",
        "print(my_name)'''\n",
        "'''using string with out using quotes\n",
        "print(sai)'''\n",
        "dict={\"name\":\"sai\"}\n",
        "print(dict[\"name\"])"
      ]
    },
    {
      "cell_type": "markdown",
      "metadata": {
        "id": "KVoE9KbQ44RX"
      },
      "source": [
        "22/07/25"
      ]
    },
    {
      "cell_type": "code",
      "execution_count": null,
      "metadata": {
        "colab": {
          "base_uri": "https://localhost:8080/"
        },
        "id": "xgYJQM-r46V1",
        "outputId": "8178cf56-580a-47b6-9617-4e979193ed4e"
      },
      "outputs": [
        {
          "name": "stdout",
          "output_type": "stream",
          "text": [
            "enter required number12\n",
            "enter required number21\n",
            "the result is 0\n",
            "successfully done \n"
          ]
        }
      ],
      "source": [
        "#python exception handeling\n",
        "try:\n",
        "  x=int(input(\"enter required number\"))\n",
        "  y=int(input(\"enter required number\"))\n",
        "  print(\"the result is\",int(x/y))\n",
        "except:\n",
        "  pass\n",
        "  print(\"error :arithemetic operation ignored.pass block\")\n",
        "  pass\n",
        "else:\n",
        "  print(\"successfully done \")\n"
      ]
    },
    {
      "cell_type": "code",
      "execution_count": null,
      "metadata": {
        "colab": {
          "base_uri": "https://localhost:8080/",
          "height": 308
        },
        "id": "MUIL5dl8F4I-",
        "outputId": "48610cec-433b-4076-afd9-7d8d9b8a49e4"
      },
      "outputs": [
        {
          "ename": "AssertionError",
          "evalue": "age must not be less then 18 years",
          "output_type": "error",
          "traceback": [
            "\u001b[0;31m---------------------------------------------------------------------------\u001b[0m",
            "\u001b[0;31mAssertionError\u001b[0m                            Traceback (most recent call last)",
            "\u001b[0;32m/tmp/ipython-input-26-3865181297.py\u001b[0m in \u001b[0;36m<cell line: 0>\u001b[0;34m()\u001b[0m\n\u001b[1;32m      3\u001b[0m   \u001b[0mprint\u001b[0m\u001b[0;34m(\u001b[0m\u001b[0;34m\"you are allowed to vote\"\u001b[0m\u001b[0;34m,\u001b[0m\u001b[0mage\u001b[0m\u001b[0;34m)\u001b[0m\u001b[0;34m\u001b[0m\u001b[0;34m\u001b[0m\u001b[0m\n\u001b[1;32m      4\u001b[0m   \u001b[0mprint\u001b[0m\u001b[0;34m(\u001b[0m\u001b[0;34m\"thanks for voting...........\"\u001b[0m\u001b[0;34m)\u001b[0m\u001b[0;34m\u001b[0m\u001b[0;34m\u001b[0m\u001b[0m\n\u001b[0;32m----> 5\u001b[0;31m \u001b[0mage\u001b[0m\u001b[0;34m(\u001b[0m\u001b[0;36m17\u001b[0m\u001b[0;34m)\u001b[0m\u001b[0;34m\u001b[0m\u001b[0;34m\u001b[0m\u001b[0m\n\u001b[0m",
            "\u001b[0;32m/tmp/ipython-input-26-3865181297.py\u001b[0m in \u001b[0;36mage\u001b[0;34m(age)\u001b[0m\n\u001b[1;32m      1\u001b[0m \u001b[0;32mdef\u001b[0m \u001b[0mage\u001b[0m\u001b[0;34m(\u001b[0m\u001b[0mage\u001b[0m\u001b[0;34m)\u001b[0m\u001b[0;34m:\u001b[0m\u001b[0;34m\u001b[0m\u001b[0;34m\u001b[0m\u001b[0m\n\u001b[0;32m----> 2\u001b[0;31m   \u001b[0;32massert\u001b[0m \u001b[0mage\u001b[0m\u001b[0;34m>=\u001b[0m\u001b[0;36m18\u001b[0m\u001b[0;34m,\u001b[0m\u001b[0;34m\"age must not be less then 18 years\"\u001b[0m\u001b[0;34m\u001b[0m\u001b[0;34m\u001b[0m\u001b[0m\n\u001b[0m\u001b[1;32m      3\u001b[0m   \u001b[0mprint\u001b[0m\u001b[0;34m(\u001b[0m\u001b[0;34m\"you are allowed to vote\"\u001b[0m\u001b[0;34m,\u001b[0m\u001b[0mage\u001b[0m\u001b[0;34m)\u001b[0m\u001b[0;34m\u001b[0m\u001b[0;34m\u001b[0m\u001b[0m\n\u001b[1;32m      4\u001b[0m   \u001b[0mprint\u001b[0m\u001b[0;34m(\u001b[0m\u001b[0;34m\"thanks for voting...........\"\u001b[0m\u001b[0;34m)\u001b[0m\u001b[0;34m\u001b[0m\u001b[0;34m\u001b[0m\u001b[0m\n\u001b[1;32m      5\u001b[0m \u001b[0mage\u001b[0m\u001b[0;34m(\u001b[0m\u001b[0;36m17\u001b[0m\u001b[0;34m)\u001b[0m\u001b[0;34m\u001b[0m\u001b[0;34m\u001b[0m\u001b[0m\n",
            "\u001b[0;31mAssertionError\u001b[0m: age must not be less then 18 years"
          ]
        }
      ],
      "source": [
        "def age(age):\n",
        "  assert age>=18,\"age must not be less then 18 years\"     #if the conditions false only this line will execute\n",
        "  print(\"you are allowed to vote\",age)\n",
        "  print(\"thanks for voting...........\")\n",
        "age(17)\n"
      ]
    },
    {
      "cell_type": "code",
      "execution_count": null,
      "metadata": {
        "colab": {
          "base_uri": "https://localhost:8080/"
        },
        "id": "xJ7FpF1lG6wR",
        "outputId": "fd48cdac-4a07-49c1-90b5-6556d93cbb22"
      },
      "outputs": [
        {
          "name": "stdout",
          "output_type": "stream",
          "text": [
            "enter number15\n",
            "enter numbero\n",
            "value error\n"
          ]
        }
      ],
      "source": [
        "try:\n",
        "  s=int(input(\"enter number\"))\n",
        "  a=int(input(\"enter number\"))\n",
        "  c=s/a\n",
        "  print(\"the value is:\",c)\n",
        "except ZeroDivisionError:\n",
        "  print(\"zero division error\")\n",
        "except ValueError:\n",
        "  print(\"value error\")\n",
        "except Exception:\n",
        "  print(\"exception\")\n"
      ]
    },
    {
      "cell_type": "code",
      "execution_count": null,
      "metadata": {
        "colab": {
          "base_uri": "https://localhost:8080/"
        },
        "id": "KhehkDf-Hmkg",
        "outputId": "a90ab3f3-21fc-4a6b-8802-318863624506"
      },
      "outputs": [
        {
          "name": "stdout",
          "output_type": "stream",
          "text": [
            "enter number125\n",
            "enter number3212\n",
            "the value is: 0.03891656288916563\n"
          ]
        }
      ],
      "source": [
        "try:\n",
        "  s=int(input(\"enter number\"))\n",
        "  a=int(input(\"enter number\"))\n",
        "  c=s/a\n",
        "  print(\"the value is:\",c)\n",
        "except Exception as e:                #makes asingle line\n",
        "  print(\"exception\",e)"
      ]
    },
    {
      "cell_type": "code",
      "execution_count": null,
      "metadata": {
        "colab": {
          "base_uri": "https://localhost:8080/",
          "height": 236
        },
        "id": "revndKFiIENy",
        "outputId": "4a332e97-85e2-48f4-cd15-f7fa8c8c29ca"
      },
      "outputs": [
        {
          "name": "stdout",
          "output_type": "stream",
          "text": [
            "try block\n",
            "else block\n",
            "finally block\n"
          ]
        },
        {
          "ename": "RuntimeError",
          "evalue": "No active exception to reraise",
          "output_type": "error",
          "traceback": [
            "\u001b[0;31m---------------------------------------------------------------------------\u001b[0m",
            "\u001b[0;31mRuntimeError\u001b[0m                              Traceback (most recent call last)",
            "\u001b[0;32m/tmp/ipython-input-34-3025199959.py\u001b[0m in \u001b[0;36m<cell line: 0>\u001b[0;34m()\u001b[0m\n\u001b[1;32m      8\u001b[0m \u001b[0;32mfinally\u001b[0m\u001b[0;34m:\u001b[0m\u001b[0;34m\u001b[0m\u001b[0;34m\u001b[0m\u001b[0m\n\u001b[1;32m      9\u001b[0m   \u001b[0mprint\u001b[0m\u001b[0;34m(\u001b[0m\u001b[0;34m\"finally block\"\u001b[0m\u001b[0;34m)\u001b[0m        \u001b[0;31m#it will execute every time\u001b[0m\u001b[0;34m\u001b[0m\u001b[0;34m\u001b[0m\u001b[0m\n\u001b[0;32m---> 10\u001b[0;31m \u001b[0;32mraise\u001b[0m               \u001b[0;31m#it is a user defined error\u001b[0m\u001b[0;34m\u001b[0m\u001b[0;34m\u001b[0m\u001b[0m\n\u001b[0m",
            "\u001b[0;31mRuntimeError\u001b[0m: No active exception to reraise"
          ]
        }
      ],
      "source": [
        "from ast import excepthandler\n",
        "try:\n",
        "  print(\"try block\")            #it will execute when condition is true\n",
        "except:\n",
        "  print(\"except block\")         #it will execute when the try block is fail\n",
        "else:\n",
        "  print(\"else block\")           #it wil execute when try block is execute\n",
        "finally:\n",
        "  print(\"finally block\")        #it will execute every time\n",
        "raise               #it is a user defined error"
      ]
    },
    {
      "cell_type": "markdown",
      "metadata": {
        "id": "TivP3cV1xj69"
      },
      "source": [
        "23/07/25"
      ]
    },
    {
      "cell_type": "code",
      "execution_count": null,
      "metadata": {
        "colab": {
          "base_uri": "https://localhost:8080/"
        },
        "id": "cSXOWFglyVRW",
        "outputId": "63b8fb4e-e756-43f0-ab04-974599bda754"
      },
      "outputs": [
        {
          "name": "stdout",
          "output_type": "stream",
          "text": [
            "enter a value10\n",
            "enter a value82\n",
            "92\n"
          ]
        }
      ],
      "source": [
        "def sai(x,y):\n",
        "  x=int(input(\"enter a value\"))\n",
        "  y=int(input(\"enter a value\"))\n",
        "  c=x+y\n",
        "  print(c)\n",
        "sai(15,52)"
      ]
    },
    {
      "cell_type": "code",
      "execution_count": null,
      "metadata": {
        "colab": {
          "base_uri": "https://localhost:8080/"
        },
        "id": "sVsPCWZK0oF9",
        "outputId": "fd4b551f-d454-44e5-ae55-7576070afcd4"
      },
      "outputs": [
        {
          "name": "stdout",
          "output_type": "stream",
          "text": [
            "enter the size better to enter a odd number7\n",
            "*     * \n",
            " *   *  \n",
            "  * *   \n",
            "   *    \n",
            "  * *   \n",
            " *   *  \n",
            "*     * \n"
          ]
        }
      ],
      "source": [
        "n=int(input(\"enter the size better to enter a odd number\"))\n",
        "for i in range(n):\n",
        "  for j in range(n+1):\n",
        "    if j==i or j==n-1-i:\n",
        "      print(\"*\",end=\"\")\n",
        "    else:\n",
        "      print(\" \",end=\"\")\n",
        "  print()\n"
      ]
    },
    {
      "cell_type": "code",
      "execution_count": null,
      "metadata": {
        "colab": {
          "base_uri": "https://localhost:8080/"
        },
        "id": "krucg42BAftV",
        "outputId": "2a8ef1c3-bf7d-419c-8e7d-c0fd4fac89b0"
      },
      "outputs": [
        {
          "name": "stdout",
          "output_type": "stream",
          "text": [
            "file is created\n",
            "41\n",
            "file closed\n"
          ]
        }
      ],
      "source": [
        "try:\n",
        "  with open(\"MyFile.txt\",mode='w')as MyFile:\n",
        "    MyFile.writelines(\"hello this is file handling\\n\")\n",
        "    MyFile.writelines(\"this is line\\n\")\n",
        "    print(\"file is created\")\n",
        "    print(MyFile.tell())\n",
        "except IOError:\n",
        "  print(\"file not found\")\n",
        "  print(\"cc permission denied\")\n",
        "finally:\n",
        "  print(\"file closed\")\n"
      ]
    },
    {
      "cell_type": "code",
      "execution_count": null,
      "metadata": {
        "colab": {
          "base_uri": "https://localhost:8080/"
        },
        "id": "9NIe2roeAfp4",
        "outputId": "fc8591e5-f8fd-4e36-e60d-9e6ada7f6224"
      },
      "outputs": [
        {
          "name": "stdout",
          "output_type": "stream",
          "text": [
            "0\n",
            "10\n"
          ]
        }
      ],
      "source": [
        "with open(\"MyFile.txt\",mode='r')as myfile:\n",
        "  print(myfile.tell())\n",
        "  myfile.read(10)\n",
        "  print(myfile.tell())"
      ]
    },
    {
      "cell_type": "code",
      "execution_count": null,
      "metadata": {
        "colab": {
          "base_uri": "https://localhost:8080/"
        },
        "id": "zXepDzKCAfdG",
        "outputId": "34f8d480-8ac5-4556-a102-ce8df7b3f3f4"
      },
      "outputs": [
        {
          "name": "stdout",
          "output_type": "stream",
          "text": [
            "hello\n",
            "[' this is file handling\\n', 'this is line\\n']\n",
            "weitting is success....!\n",
            "file closed\n"
          ]
        }
      ],
      "source": [
        "try:\n",
        "  with open(\"MyFile.txt\",mode='r')as myfile:\n",
        "    print(myfile.read(5))\n",
        "    print(myfile.readlines())\n",
        "    print(\"writing is success....!\")\n",
        "\n",
        "except IOError:\n",
        "  print(\"file not found\")\n",
        "  print(\"cc permission denied\")\n",
        "finally:\n",
        "  print(\"file closed\")"
      ]
    },
    {
      "cell_type": "code",
      "execution_count": null,
      "metadata": {
        "colab": {
          "base_uri": "https://localhost:8080/"
        },
        "id": "aZD9_KhqAfKn",
        "outputId": "bdb8ecff-9ce5-41e0-87b7-77c476274984"
      },
      "outputs": [
        {
          "name": "stdout",
          "output_type": "stream",
          "text": [
            "<_io.TextIOWrapper name='MyFile.jpg' mode='w' encoding='utf-8'>\n"
          ]
        }
      ],
      "source": [
        "from os import write\n",
        "try:\n",
        "  with open(\"MyFile.jpg\",mode='w') as my:\n",
        "    my.writelines(\"hii this is file handling\")\n",
        "    print(my)\n",
        "except IOError:\n",
        "  print(\"file not found\")\n",
        "  print(\"cc permission denied\")"
      ]
    },
    {
      "cell_type": "code",
      "execution_count": null,
      "metadata": {
        "colab": {
          "base_uri": "https://localhost:8080/"
        },
        "id": "DDAmTfGDMksE",
        "outputId": "c95b2d10-6c1c-47c6-ff95-5985ead381ee"
      },
      "outputs": [
        {
          "name": "stdout",
          "output_type": "stream",
          "text": [
            "appending sucessful\n"
          ]
        }
      ],
      "source": [
        "try:\n",
        "  with open(\"MyFile.txt\",mode='a') as my:\n",
        "    my.writelines(\"this line will append on the file\")\n",
        "    print(\"appending sucessful\")\n",
        "except IOError:\n",
        "  print(\"file not found\")\n",
        "  print(\"cc permission denied\")"
      ]
    },
    {
      "cell_type": "code",
      "execution_count": null,
      "metadata": {
        "colab": {
          "base_uri": "https://localhost:8080/"
        },
        "id": "FtfOWKAdNEVE",
        "outputId": "29e90424-8a98-48ce-ebfb-853e958c7cde"
      },
      "outputs": [
        {
          "name": "stdout",
          "output_type": "stream",
          "text": [
            "file is created\n",
            "file closed\n"
          ]
        }
      ],
      "source": [
        "try:\n",
        "  with open(\"MyFile.txt\",mode='w')as MyFile:\n",
        "    MyFile.writelines(\"தமிழர்களினதும் தமிழ் பேசும் பலரின் தாய்மொழி\\n\")\n",
        "    MyFile.writelines(\"hello this is jpg file\\n\")\n",
        "    MyFile.writelines(\"welcome to python programming\\n\")\n",
        "    print(\"file is created\")\n",
        "except IOError:\n",
        "  print(\"file not found\")\n",
        "  print(\"cc permission denied\")\n",
        "finally:\n",
        "  print(\"file closed\")"
      ]
    },
    {
      "cell_type": "code",
      "execution_count": null,
      "metadata": {
        "id": "iqro9VnCOTdp"
      },
      "outputs": [],
      "source": [
        "x=5\n",
        "for i in range(1,x+1):\n",
        "  if i==0 and i==5:\n",
        "    print(\"*\",end=\"\")\n"
      ]
    },
    {
      "cell_type": "code",
      "execution_count": null,
      "metadata": {
        "colab": {
          "base_uri": "https://localhost:8080/",
          "height": 35
        },
        "id": "hy-piTj-jojI",
        "outputId": "90b102a4-1355-44de-b9e9-b1a369b33e95"
      },
      "outputs": [
        {
          "data": {
            "application/vnd.google.colaboratory.intrinsic+json": {
              "type": "string"
            },
            "text/plain": [
              "'x=int(input())\\ny=int(input())\\nprint(7-x-y)'"
            ]
          },
          "execution_count": 2,
          "metadata": {},
          "output_type": "execute_result"
        }
      ],
      "source": [
        "'''x=input(\"enter the string\")\n",
        "y=x.lower\n",
        "b=len(x)\n",
        "print(b)\n",
        "if b<=10:\n",
        "  print(x[6],\":lucky nunber\")\n",
        "else:\n",
        "  print(\"enter only 10 letter words\")'''\n",
        "'''x=int(input())\n",
        "y=int(input())\n",
        "print(7-x-y)'''"
      ]
    },
    {
      "cell_type": "markdown",
      "metadata": {
        "id": "dXD4YthpEyU-"
      },
      "source": [
        "24/07/25"
      ]
    },
    {
      "cell_type": "code",
      "execution_count": null,
      "metadata": {
        "colab": {
          "base_uri": "https://localhost:8080/"
        },
        "id": "rzOswuzcoypQ",
        "outputId": "fef597ee-bfd6-4b37-e07a-7e92ab4177de"
      },
      "outputs": [
        {
          "name": "stdout",
          "output_type": "stream",
          "text": [
            "4\n",
            "****\n",
            "****\n",
            "****\n",
            "****\n"
          ]
        }
      ],
      "source": [
        "#patterns\n",
        "x=int(input())\n",
        "for i in range(x):\n",
        "  print(\"****\")"
      ]
    },
    {
      "cell_type": "code",
      "execution_count": null,
      "metadata": {
        "colab": {
          "base_uri": "https://localhost:8080/"
        },
        "id": "G_idI-3PIh8i",
        "outputId": "c278ec77-0b3b-44a1-e90e-4e97142140c6"
      },
      "outputs": [
        {
          "name": "stdout",
          "output_type": "stream",
          "text": [
            "4\n",
            "     *\n",
            "     **\n",
            "     ***\n",
            "     ****\n"
          ]
        }
      ],
      "source": [
        "x=int(input())\n",
        "for i in range(1,x+1):\n",
        "  print(\" \"*(x+1)+\"*\"*i)"
      ]
    },
    {
      "cell_type": "code",
      "execution_count": null,
      "metadata": {
        "id": "mXYQs076NA64"
      },
      "outputs": [],
      "source": [
        "#hallow square inverted pyramid....."
      ]
    },
    {
      "cell_type": "code",
      "execution_count": null,
      "metadata": {
        "colab": {
          "base_uri": "https://localhost:8080/"
        },
        "id": "CAkRPBM4Cndz",
        "outputId": "dcc8250c-98a9-4b47-c863-df40666a96d7"
      },
      "outputs": [
        {
          "name": "stdout",
          "output_type": "stream",
          "text": [
            "Enter the size of the square: 5\n",
            "*****\n",
            "*   *\n",
            "*   *\n",
            "*   *\n",
            "*****\n"
          ]
        }
      ],
      "source": [
        "size = int(input(\"Enter the size of the square: \"))\n",
        "for i in range(size):\n",
        "    for j in range(size):\n",
        "        if i == 0 or i == size - 1 or j == 0 or j == size - 1:\n",
        "            print(\"*\", end=\"\")\n",
        "        else:\n",
        "            print(\" \", end=\"\")\n",
        "    print()"
      ]
    },
    {
      "cell_type": "code",
      "execution_count": null,
      "metadata": {
        "colab": {
          "base_uri": "https://localhost:8080/"
        },
        "id": "dHz0z2_DCucJ",
        "outputId": "25bab2c6-b294-4aba-9156-0d263ea65ed1"
      },
      "outputs": [
        {
          "name": "stdout",
          "output_type": "stream",
          "text": [
            "Enter the number of rows: 5\n",
            "*********\n",
            " *******\n",
            "  *****\n",
            "   ***\n",
            "    *\n"
          ]
        }
      ],
      "source": [
        "rows = int(input(\"Enter the number of rows: \"))\n",
        "for i in range(rows, 0, -1):\n",
        "    spaces = rows - i\n",
        "    stars = 2 * i - 1\n",
        "    print(\" \" * spaces + \"*\" * stars)"
      ]
    },
    {
      "cell_type": "code",
      "execution_count": null,
      "metadata": {
        "colab": {
          "base_uri": "https://localhost:8080/"
        },
        "id": "Rj07XJMvOmnZ",
        "outputId": "1e9ef65c-8a60-4c7d-dc50-a6bb12c34929"
      },
      "outputs": [
        {
          "name": "stdout",
          "output_type": "stream",
          "text": [
            "Collecting faker\n",
            "  Downloading faker-37.4.2-py3-none-any.whl.metadata (15 kB)\n",
            "Requirement already satisfied: tzdata in /usr/local/lib/python3.11/dist-packages (from faker) (2025.2)\n",
            "Downloading faker-37.4.2-py3-none-any.whl (1.9 MB)\n",
            "\u001b[2K   \u001b[90m━━━━━━━━━━━━━━━━━━━━━━━━━━━━━━━━━━━━━━━━\u001b[0m \u001b[32m1.9/1.9 MB\u001b[0m \u001b[31m16.9 MB/s\u001b[0m eta \u001b[36m0:00:00\u001b[0m\n",
            "\u001b[?25hInstalling collected packages: faker\n",
            "Successfully installed faker-37.4.2\n"
          ]
        }
      ],
      "source": [
        "!pip install faker"
      ]
    },
    {
      "cell_type": "code",
      "execution_count": null,
      "metadata": {
        "colab": {
          "base_uri": "https://localhost:8080/"
        },
        "id": "uXT74ITPOmp3",
        "outputId": "49ed7502-9867-4636-8ecf-1b578cd38c5a"
      },
      "outputs": [
        {
          "name": "stdout",
          "output_type": "stream",
          "text": [
            "Collecting fpdf\n",
            "  Downloading fpdf-1.7.2.tar.gz (39 kB)\n",
            "  Preparing metadata (setup.py) ... \u001b[?25l\u001b[?25hdone\n",
            "Building wheels for collected packages: fpdf\n",
            "  Building wheel for fpdf (setup.py) ... \u001b[?25l\u001b[?25hdone\n",
            "  Created wheel for fpdf: filename=fpdf-1.7.2-py2.py3-none-any.whl size=40704 sha256=534afe4368e83c6a518bb444f70a51171b703229f0a6635e433d87d56db5437e\n",
            "  Stored in directory: /root/.cache/pip/wheels/65/4f/66/bbda9866da446a72e206d6484cd97381cbc7859a7068541c36\n",
            "Successfully built fpdf\n",
            "Installing collected packages: fpdf\n",
            "Successfully installed fpdf-1.7.2\n"
          ]
        }
      ],
      "source": [
        "!pip install fpdf"
      ]
    },
    {
      "cell_type": "code",
      "execution_count": null,
      "metadata": {
        "id": "7Xxz-D4wOmtE"
      },
      "outputs": [],
      "source": [
        "#generate 100 fack emails open in excel then convert it into notepad"
      ]
    },
    {
      "cell_type": "code",
      "execution_count": null,
      "metadata": {
        "colab": {
          "base_uri": "https://localhost:8080/"
        },
        "id": "9gC4g2SyWRPN",
        "outputId": "2730c20b-67a3-4374-dd69-79bcef0d0bd1"
      },
      "outputs": [
        {
          "name": "stdout",
          "output_type": "stream",
          "text": [
            "new image was created sucess\n"
          ]
        }
      ],
      "source": [
        "Myfile1=open(\"/content/download.jpg\",mode=\"rb\")\n",
        "Myfile2=open(\"sai.png\",mode=\"wb\")\n",
        "Byts=Myfile1.read()\n",
        "Myfile2.write(Byts)\n",
        "print(\"new image was created sucess\")"
      ]
    },
    {
      "cell_type": "code",
      "execution_count": null,
      "metadata": {
        "colab": {
          "base_uri": "https://localhost:8080/"
        },
        "id": "B4hxB6bgXN0L",
        "outputId": "eb2e704d-28a2-4fad-da23-eee2f17656c2"
      },
      "outputs": [
        {
          "name": "stdout",
          "output_type": "stream",
          "text": [
            "all images compressed successfully\n"
          ]
        }
      ],
      "source": [
        "from zipfile import *\n",
        "Zfile = ZipFile(\"Myfile.zip\", \"w\", ZIP_DEFLATED)\n",
        "Zfile.write(\"download.jpg\")\n",
        "Zfile.write(\"sai.png\")\n",
        "Zfile.close()\n",
        "print(\"all images compressed successfully\")"
      ]
    },
    {
      "cell_type": "code",
      "execution_count": null,
      "metadata": {
        "colab": {
          "base_uri": "https://localhost:8080/"
        },
        "id": "phmYYoBSYmUU",
        "outputId": "0feec190-f509-4b2a-8bd0-fa29c51943c8"
      },
      "outputs": [
        {
          "name": "stdout",
          "output_type": "stream",
          "text": [
            "name changed successfullyyy......!\n"
          ]
        }
      ],
      "source": [
        "import os\n",
        "os.rename(\"Myfile.zip\",\"naga.zip\")\n",
        "print(\"name changed successfullyyy......!\")"
      ]
    },
    {
      "cell_type": "code",
      "execution_count": null,
      "metadata": {
        "colab": {
          "base_uri": "https://localhost:8080/"
        },
        "id": "oiMkZQ1sZX5l",
        "outputId": "d4cb0b62-32e8-4f22-f0d6-79d41823a6fe"
      },
      "outputs": [
        {
          "name": "stdout",
          "output_type": "stream",
          "text": [
            "csv file created successfully\n",
            "final block success\n"
          ]
        }
      ],
      "source": [
        "try:\n",
        "  import csv\n",
        "  with open(\"Myfile.csv\",mode='w',encoding='utf-8') as fp:\n",
        "    writer = csv.writer(fp, delimiter=',')\n",
        "    data=[[\"stock\",\"sales\",\"price\"],\n",
        "          ['100','50','150'],\n",
        "          ['250','50','545'],\n",
        "          ['21','152','215']]\n",
        "    writer.writerows(data)\n",
        "    print(\"csv file created successfully\")\n",
        "except IOError:\n",
        "  print(\"sorry csv file is unable to create\")\n",
        "  print(\"server write protected\")\n",
        "finally:\n",
        "  print(\"final block success\")"
      ]
    },
    {
      "cell_type": "code",
      "execution_count": null,
      "metadata": {
        "colab": {
          "base_uri": "https://localhost:8080/"
        },
        "id": "zm1swR3zcw5R",
        "outputId": "87dccf4c-ced7-45c2-933e-2dd0de5d542e"
      },
      "outputs": [
        {
          "name": "stdout",
          "output_type": "stream",
          "text": [
            "pdf file crested successfully\n"
          ]
        }
      ],
      "source": [
        "from fpdf import FPDF\n",
        "pdf=FPDF()\n",
        "pdf.add_page()\n",
        "pdf.set_font('Arial',size=32)\n",
        "pdf.cell(200,100,txt=\"hello my self prashant\",align='C')\n",
        "pdf.output(\"sai.pdf\")\n",
        "print(\"pdf file crested successfully\")"
      ]
    },
    {
      "cell_type": "code",
      "execution_count": null,
      "metadata": {
        "colab": {
          "background_save": true
        },
        "id": "sWSFvqUAdywG",
        "outputId": "b31488cc-b949-4d2f-f9e7-daec4ccd0634"
      },
      "outputs": [
        {
          "name": "stdout",
          "output_type": "stream",
          "text": [
            "Requirement already satisfied: openpyxl in /usr/local/lib/python3.11/dist-packages (3.1.5)\n",
            "Requirement already satisfied: et-xmlfile in /usr/local/lib/python3.11/dist-packages (from openpyxl) (2.0.0)\n"
          ]
        }
      ],
      "source": [
        "!pip install openpyx1"
      ]
    },
    {
      "cell_type": "code",
      "execution_count": null,
      "metadata": {
        "colab": {
          "base_uri": "https://localhost:8080/"
        },
        "id": "O7TfumbOI7cA",
        "outputId": "d8d15126-58bf-413a-d40d-c5f098a057f5"
      },
      "outputs": [
        {
          "name": "stdout",
          "output_type": "stream",
          "text": [
            "Collecting faker\n",
            "  Downloading faker-37.4.2-py3-none-any.whl.metadata (15 kB)\n",
            "Requirement already satisfied: tzdata in /usr/local/lib/python3.11/dist-packages (from faker) (2025.2)\n",
            "Downloading faker-37.4.2-py3-none-any.whl (1.9 MB)\n",
            "\u001b[?25l   \u001b[90m━━━━━━━━━━━━━━━━━━━━━━━━━━━━━━━━━━━━━━━━\u001b[0m \u001b[32m0.0/1.9 MB\u001b[0m \u001b[31m?\u001b[0m eta \u001b[36m-:--:--\u001b[0m\r\u001b[2K   \u001b[91m━━\u001b[0m\u001b[91m╸\u001b[0m\u001b[90m━━━━━━━━━━━━━━━━━━━━━━━━━━━━━━━━━━━━━\u001b[0m \u001b[32m0.1/1.9 MB\u001b[0m \u001b[31m3.9 MB/s\u001b[0m eta \u001b[36m0:00:01\u001b[0m\r\u001b[2K   \u001b[91m━━━━━━━━━━━━━━━━━━\u001b[0m\u001b[91m╸\u001b[0m\u001b[90m━━━━━━━━━━━━━━━━━━━━━\u001b[0m \u001b[32m0.9/1.9 MB\u001b[0m \u001b[31m12.8 MB/s\u001b[0m eta \u001b[36m0:00:01\u001b[0m\r\u001b[2K   \u001b[90m━━━━━━━━━━━━━━━━━━━━━━━━━━━━━━━━━━━━━━━━\u001b[0m \u001b[32m1.9/1.9 MB\u001b[0m \u001b[31m18.4 MB/s\u001b[0m eta \u001b[36m0:00:00\u001b[0m\n",
            "\u001b[?25hInstalling collected packages: faker\n",
            "Successfully installed faker-37.4.2\n"
          ]
        }
      ],
      "source": [
        "!pip install faker"
      ]
    },
    {
      "cell_type": "code",
      "execution_count": null,
      "metadata": {
        "colab": {
          "background_save": true,
          "base_uri": "https://localhost:8080/",
          "height": 218
        },
        "id": "n1uUvu1LH2IH",
        "outputId": "4226ee86-1e6d-4a36-df3f-0807b8d95392"
      },
      "outputs": [
        {
          "name": "stdout",
          "output_type": "stream",
          "text": [
            "Excel Book Created Successfully...!!\n"
          ]
        }
      ],
      "source": []
    },
    {
      "cell_type": "code",
      "execution_count": null,
      "metadata": {
        "id": "uwUX-4kbH7tZ"
      },
      "outputs": [],
      "source": [
        "from faker import Faker\n",
        "fake = Faker()\n",
        "for x in range(10):\n",
        "  print (fake.address())\n",
        "  print(\"------------\")"
      ]
    },
    {
      "cell_type": "code",
      "source": [
        "#creating fack names ,emails ,numbers , addreses in the xlsx sheet\n",
        "from openpyxl import Workbook\n",
        "import faker\n",
        "wb=Workbook()\n",
        "ws=wb.active\n",
        "from faker import Faker\n",
        "fake = Faker()\n",
        "ws['A1'] = \"Fake names\"\n",
        "for x in range(2, 12):\n",
        "    ws[f'A{x}'] = fake.name()\n",
        "ws['B1'] = \"Fake Addresses\"\n",
        "for x in range(2, 12):\n",
        "    ws[f'B{x}'] = fake.address()\n",
        "ws['C1'] = \"Fake emails\"\n",
        "for x in range(2, 12):\n",
        "    ws[f'C{x}'] = fake.email()\n",
        "ws['D1'] = \"Fake countries\"\n",
        "for x in range(2, 12):\n",
        "    ws[f'D{x}'] = fake.country()\n",
        "ws['E1'] = \"Fake phone numbers\"\n",
        "for x in range(2, 12):\n",
        "    ws[f'E{x}'] = fake.phone_number()\n",
        "wb.save(\"Demoexcel.xlsx\")\n",
        "print(\"Excel Book Created Successfully...!!\")"
      ],
      "metadata": {
        "colab": {
          "base_uri": "https://localhost:8080/"
        },
        "id": "Q0ui3XbBLWvl",
        "outputId": "f87a755e-10a1-402b-a246-f16fca981314"
      },
      "execution_count": null,
      "outputs": [
        {
          "output_type": "stream",
          "name": "stdout",
          "text": [
            "Excel Book Created Successfully...!!\n"
          ]
        }
      ]
    },
    {
      "cell_type": "code",
      "source": [
        "n=int(input())\n",
        "for i in range(n):\n",
        "  top=(\"*\"*n)\n",
        "  bot=(\"*\"*n)\n",
        "  print(top)\n"
      ],
      "metadata": {
        "colab": {
          "base_uri": "https://localhost:8080/",
          "height": 109
        },
        "id": "rfhmrL8zR95m",
        "outputId": "0efc71fa-af9c-4b8d-94fb-2333b0136bad"
      },
      "execution_count": null,
      "outputs": [
        {
          "output_type": "error",
          "ename": "SyntaxError",
          "evalue": "invalid syntax (ipython-input-30-4261415318.py, line 5)",
          "traceback": [
            "\u001b[0;36m  File \u001b[0;32m\"/tmp/ipython-input-30-4261415318.py\"\u001b[0;36m, line \u001b[0;32m5\u001b[0m\n\u001b[0;31m    print(top,/nend=\"\"+\" \"*(n-i),bot)\u001b[0m\n\u001b[0m              ^\u001b[0m\n\u001b[0;31mSyntaxError\u001b[0m\u001b[0;31m:\u001b[0m invalid syntax\n"
          ]
        }
      ]
    },
    {
      "cell_type": "markdown",
      "source": [
        "25/07/25\n"
      ],
      "metadata": {
        "id": "Rri4fw8dVJ3T"
      }
    },
    {
      "cell_type": "code",
      "source": [
        "import re\n",
        "line=\"Pet:cat is the best pet\"\n",
        "mat=re.match(r\"Pet*\",line)\n",
        "print(mat.group())\n",
        "print(mat.start())\n",
        "print(mat.end())"
      ],
      "metadata": {
        "id": "-IhNh2T2VOB8",
        "colab": {
          "base_uri": "https://localhost:8080/"
        },
        "outputId": "82f5a2d2-0fa4-45a0-f303-07f8a92fb8a7"
      },
      "execution_count": null,
      "outputs": [
        {
          "output_type": "stream",
          "name": "stdout",
          "text": [
            "Pet\n",
            "0\n",
            "3\n"
          ]
        }
      ]
    },
    {
      "cell_type": "code",
      "source": [
        "from re import*\n",
        "strpat='^...a$'\n",
        "pystr=\"prashu\"\n",
        "pyresult=match(strpat,pystr)\n",
        "if(pyresult):\n",
        "  print(\"string matched\")\n",
        "else:\n",
        "  print(\"string not matched\")"
      ],
      "metadata": {
        "colab": {
          "base_uri": "https://localhost:8080/"
        },
        "id": "_MOOWOkajHXG",
        "outputId": "22fa7414-d80f-4810-8534-274fb46475cd"
      },
      "execution_count": null,
      "outputs": [
        {
          "output_type": "stream",
          "name": "stdout",
          "text": [
            "string not matched\n"
          ]
        }
      ]
    },
    {
      "cell_type": "code",
      "source": [
        "import re\n",
        "line=\"pet:cat I love cats \"\n",
        "mat=re.match(r\"pet:\\w\\w\\w\",line)\n",
        "print(mat.group(0))"
      ],
      "metadata": {
        "colab": {
          "base_uri": "https://localhost:8080/"
        },
        "id": "ogj2GDvtkXX-",
        "outputId": "8765a566-bc0a-4dcf-fc81-26e69c78380f"
      },
      "execution_count": null,
      "outputs": [
        {
          "output_type": "stream",
          "name": "stdout",
          "text": [
            "pet:cat\n"
          ]
        }
      ]
    },
    {
      "cell_type": "code",
      "source": [
        "import re\n",
        "line=\"i love cats pet:cat\"\n",
        "mat=re.match(r\"Pet\\w\\w\\w\",line)\n",
        "print(mat)"
      ],
      "metadata": {
        "colab": {
          "base_uri": "https://localhost:8080/"
        },
        "id": "guHVUz6dk6SK",
        "outputId": "a896320b-8500-42dc-a6d0-9b2fdf7117ea"
      },
      "execution_count": null,
      "outputs": [
        {
          "output_type": "stream",
          "name": "stdout",
          "text": [
            "None\n"
          ]
        }
      ]
    },
    {
      "cell_type": "code",
      "source": [
        "import re\n",
        "line=\"I love cats pet:cat\"\n",
        "mat=re.search(r\"pet:\\w\\w\\w\",line)\n",
        "print(mat.group(0))"
      ],
      "metadata": {
        "colab": {
          "base_uri": "https://localhost:8080/"
        },
        "id": "5BcZv27DlABB",
        "outputId": "f2096e13-446c-472b-8eca-3a0d71e4ac8c"
      },
      "execution_count": null,
      "outputs": [
        {
          "output_type": "stream",
          "name": "stdout",
          "text": [
            "pet:cat\n"
          ]
        }
      ]
    },
    {
      "cell_type": "code",
      "source": [
        "import re\n",
        "\n",
        "line = \"i love cats pet:cat\"\n",
        "mat = re.search(r\"pet\\w\\w\\w\", line, re.IGNORECASE)\n",
        "\n",
        "if mat:\n",
        "    print(mat.group(0))\n",
        "else:\n",
        "    print(\"No match found.\")"
      ],
      "metadata": {
        "colab": {
          "base_uri": "https://localhost:8080/"
        },
        "id": "5KQ_-1y3la_q",
        "outputId": "775ff76c-65c1-45fe-d425-0011d60bc4b0"
      },
      "execution_count": null,
      "outputs": [
        {
          "output_type": "stream",
          "name": "stdout",
          "text": [
            "No match found.\n"
          ]
        }
      ]
    },
    {
      "cell_type": "code",
      "source": [
        "import re\n",
        "line=\"pet:cat I love cats  pet:cow ngoeigoihvewnv ekngoehg pet:dog \"\n",
        "mat=re.findall(r\"pet:\\w\\w\\w\",line)\n",
        "print(mat)"
      ],
      "metadata": {
        "colab": {
          "base_uri": "https://localhost:8080/"
        },
        "id": "M_HE8MfxlhfK",
        "outputId": "fc7520f7-20be-4266-cf8e-c9cb4218cd33"
      },
      "execution_count": null,
      "outputs": [
        {
          "output_type": "stream",
          "name": "stdout",
          "text": [
            "['pet:cat', 'pet:cow', 'pet:dog']\n"
          ]
        }
      ]
    },
    {
      "cell_type": "code",
      "source": [
        "import re\n",
        "mat=re.findall(r'@\\w+\\w+','abc.tesr@skjfnwos,first@sfhiughiuer,first.test@rest.bi')\n",
        "print(mat)"
      ],
      "metadata": {
        "colab": {
          "base_uri": "https://localhost:8080/"
        },
        "id": "gY9Px0O4mXDD",
        "outputId": "b041b8ff-ff62-4f47-a0d6-5c05dc89109f"
      },
      "execution_count": null,
      "outputs": [
        {
          "output_type": "stream",
          "name": "stdout",
          "text": [
            "['@skjfnwos', '@sfhiughiuer', '@rest']\n"
          ]
        }
      ]
    }
  ],
  "metadata": {
    "colab": {
      "provenance": [],
      "authorship_tag": "ABX9TyNneHe0gutIV+HDAE8TGw75",
      "include_colab_link": true
    },
    "kernelspec": {
      "display_name": "Python 3",
      "name": "python3"
    },
    "language_info": {
      "name": "python"
    }
  },
  "nbformat": 4,
  "nbformat_minor": 0
}